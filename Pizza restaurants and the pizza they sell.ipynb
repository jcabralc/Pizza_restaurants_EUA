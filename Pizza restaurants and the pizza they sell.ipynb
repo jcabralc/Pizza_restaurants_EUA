{
 "cells": [
  {
   "cell_type": "markdown",
   "metadata": {},
   "source": [
    "# Pizza restaurants and the pizza they sell"
   ]
  },
  {
   "cell_type": "markdown",
   "metadata": {},
   "source": [
    "Dados com cerca de 3,500 pizzas de diversos restaurantes dos EUA.\n",
    "\n",
    "Dataset: https://www.kaggle.com/datafiniti/pizza-restaurants-and-the-pizza-they-sell<br>\n",
    "Mapa EUA: http://www.guiageo-eua.com/imagens/mapa-politico.jpg"
   ]
  },
  {
   "cell_type": "markdown",
   "metadata": {},
   "source": [
    "## Descrição das variaveis"
   ]
  },
  {
   "cell_type": "markdown",
   "metadata": {},
   "source": [
    "<b>id - </b>ID do restauranre <br>\n",
    "<b>address -</b> Endereço<br>\n",
    "<b>categories - </b>Categorias dos restaurantes<br>\n",
    "<b>city - </b>Cidade<br>\n",
    "<b>country -</b> </b>Pais<br>\n",
    "<b>keys - </b>Palavras chaves<br>\n",
    "<b>latitude - </b>Latitude<br>\n",
    "<b>longitude - </b>Longitude<br>\n",
    "<b>menuPageURL - </b>URL da pagina do restaurante<br>\n",
    "<b>menus.amountMax - </b>Preço maximo do menu<br>\n",
    "<b>menus.amountMin - </b> Preço minimo do menu<br>\n",
    "<b>menus.currency -</b> Moeda aceita<br>\n",
    "<b>menus.dateSeen -</b> Data que o menu foi visto<br>\n",
    "<b>menus.description - </b>Descrição do menu, ingredientes<br>\n",
    "<b>menus.name -</b> Nome da Pizza<br>\n",
    "<b>name -</b> Nome do restaurante<br>\n",
    "<b>postalCode - </b>CEP do restaurante<br>\n",
    "<b>priceRangeCurrency - </b>Tipo de Moeda<br>\n",
    "<b>priceRangeMin - </b>Faixa de variação minima da pizza<br>\n",
    "<b>priceRangeMax - </b>Faixa de variação maxima da pizza<br>\n",
    "<b>province -</b> Estado/Provincia<br>"
   ]
  },
  {
   "cell_type": "code",
   "execution_count": 34,
   "metadata": {},
   "outputs": [],
   "source": [
    "# Import dos pacotes\n",
    "import pandas as pd\n",
    "import numpy as np\n",
    "import seaborn as sns\n",
    "from scipy import stats\n",
    "import matplotlib.pyplot as plt\n",
    "import matplotlib as mpl\n",
    "%matplotlib inline\n",
    "import plotly.offline as py"
   ]
  },
  {
   "cell_type": "code",
   "execution_count": 2,
   "metadata": {},
   "outputs": [],
   "source": [
    "pizzas = pd.read_csv('8358_1.csv')"
   ]
  },
  {
   "cell_type": "markdown",
   "metadata": {},
   "source": [
    "## Exploração"
   ]
  },
  {
   "cell_type": "code",
   "execution_count": 3,
   "metadata": {},
   "outputs": [
    {
     "data": {
      "text/html": [
       "<div>\n",
       "<style>\n",
       "    .dataframe thead tr:only-child th {\n",
       "        text-align: right;\n",
       "    }\n",
       "\n",
       "    .dataframe thead th {\n",
       "        text-align: left;\n",
       "    }\n",
       "\n",
       "    .dataframe tbody tr th {\n",
       "        vertical-align: top;\n",
       "    }\n",
       "</style>\n",
       "<table border=\"1\" class=\"dataframe\">\n",
       "  <thead>\n",
       "    <tr style=\"text-align: right;\">\n",
       "      <th></th>\n",
       "      <th>id</th>\n",
       "      <th>address</th>\n",
       "      <th>categories</th>\n",
       "      <th>city</th>\n",
       "      <th>country</th>\n",
       "      <th>keys</th>\n",
       "      <th>latitude</th>\n",
       "      <th>longitude</th>\n",
       "      <th>menuPageURL</th>\n",
       "      <th>menus.amountMax</th>\n",
       "      <th>...</th>\n",
       "      <th>menus.currency</th>\n",
       "      <th>menus.dateSeen</th>\n",
       "      <th>menus.description</th>\n",
       "      <th>menus.name</th>\n",
       "      <th>name</th>\n",
       "      <th>postalCode</th>\n",
       "      <th>priceRangeCurrency</th>\n",
       "      <th>priceRangeMin</th>\n",
       "      <th>priceRangeMax</th>\n",
       "      <th>province</th>\n",
       "    </tr>\n",
       "  </thead>\n",
       "  <tbody>\n",
       "    <tr>\n",
       "      <th>0</th>\n",
       "      <td>AVwc_6KEIN2L1WUfrKAH</td>\n",
       "      <td>Cascade Village Mall Across From Target</td>\n",
       "      <td>Pizza Place</td>\n",
       "      <td>Bend</td>\n",
       "      <td>US</td>\n",
       "      <td>us/or/bend/cascadevillagemallacrossfromtarget/...</td>\n",
       "      <td>44.102665</td>\n",
       "      <td>-121.300797</td>\n",
       "      <td>NaN</td>\n",
       "      <td>22.50</td>\n",
       "      <td>...</td>\n",
       "      <td>USD</td>\n",
       "      <td>2016-03-31T02:19:42Z</td>\n",
       "      <td>NaN</td>\n",
       "      <td>Bianca Pizza</td>\n",
       "      <td>Little Pizza Paradise</td>\n",
       "      <td>97701</td>\n",
       "      <td>NaN</td>\n",
       "      <td>NaN</td>\n",
       "      <td>NaN</td>\n",
       "      <td>OR</td>\n",
       "    </tr>\n",
       "    <tr>\n",
       "      <th>1</th>\n",
       "      <td>AVwc_6KEIN2L1WUfrKAH</td>\n",
       "      <td>Cascade Village Mall Across From Target</td>\n",
       "      <td>Pizza Place</td>\n",
       "      <td>Bend</td>\n",
       "      <td>US</td>\n",
       "      <td>us/or/bend/cascadevillagemallacrossfromtarget/...</td>\n",
       "      <td>44.102665</td>\n",
       "      <td>-121.300797</td>\n",
       "      <td>NaN</td>\n",
       "      <td>18.95</td>\n",
       "      <td>...</td>\n",
       "      <td>USD</td>\n",
       "      <td>2016-03-31T02:19:42Z</td>\n",
       "      <td>NaN</td>\n",
       "      <td>Cheese Pizza</td>\n",
       "      <td>Little Pizza Paradise</td>\n",
       "      <td>97701</td>\n",
       "      <td>NaN</td>\n",
       "      <td>NaN</td>\n",
       "      <td>NaN</td>\n",
       "      <td>OR</td>\n",
       "    </tr>\n",
       "  </tbody>\n",
       "</table>\n",
       "<p>2 rows × 21 columns</p>\n",
       "</div>"
      ],
      "text/plain": [
       "                     id                                  address   categories  \\\n",
       "0  AVwc_6KEIN2L1WUfrKAH  Cascade Village Mall Across From Target  Pizza Place   \n",
       "1  AVwc_6KEIN2L1WUfrKAH  Cascade Village Mall Across From Target  Pizza Place   \n",
       "\n",
       "   city country                                               keys   latitude  \\\n",
       "0  Bend      US  us/or/bend/cascadevillagemallacrossfromtarget/...  44.102665   \n",
       "1  Bend      US  us/or/bend/cascadevillagemallacrossfromtarget/...  44.102665   \n",
       "\n",
       "    longitude menuPageURL  menus.amountMax    ...     menus.currency  \\\n",
       "0 -121.300797         NaN            22.50    ...                USD   \n",
       "1 -121.300797         NaN            18.95    ...                USD   \n",
       "\n",
       "         menus.dateSeen menus.description    menus.name  \\\n",
       "0  2016-03-31T02:19:42Z               NaN  Bianca Pizza   \n",
       "1  2016-03-31T02:19:42Z               NaN  Cheese Pizza   \n",
       "\n",
       "                    name postalCode priceRangeCurrency priceRangeMin  \\\n",
       "0  Little Pizza Paradise      97701                NaN           NaN   \n",
       "1  Little Pizza Paradise      97701                NaN           NaN   \n",
       "\n",
       "   priceRangeMax  province  \n",
       "0            NaN        OR  \n",
       "1            NaN        OR  \n",
       "\n",
       "[2 rows x 21 columns]"
      ]
     },
     "execution_count": 3,
     "metadata": {},
     "output_type": "execute_result"
    }
   ],
   "source": [
    "pizzas.head(2)"
   ]
  },
  {
   "cell_type": "code",
   "execution_count": 4,
   "metadata": {},
   "outputs": [
    {
     "data": {
      "text/plain": [
       "(3510, 21)"
      ]
     },
     "execution_count": 4,
     "metadata": {},
     "output_type": "execute_result"
    }
   ],
   "source": [
    "pizzas.shape"
   ]
  },
  {
   "cell_type": "code",
   "execution_count": 5,
   "metadata": {},
   "outputs": [
    {
     "data": {
      "text/plain": [
       "id                       0\n",
       "address                  0\n",
       "categories               0\n",
       "city                     0\n",
       "country                  0\n",
       "keys                     0\n",
       "latitude                 0\n",
       "longitude                0\n",
       "menuPageURL           2900\n",
       "menus.amountMax        562\n",
       "menus.amountMin        562\n",
       "menus.currency         559\n",
       "menus.dateSeen           0\n",
       "menus.description     1984\n",
       "menus.name               0\n",
       "name                     0\n",
       "postalCode              26\n",
       "priceRangeCurrency    1953\n",
       "priceRangeMin         1953\n",
       "priceRangeMax         1953\n",
       "province                 0\n",
       "dtype: int64"
      ]
     },
     "execution_count": 5,
     "metadata": {},
     "output_type": "execute_result"
    }
   ],
   "source": [
    "# Verifica valores nulos\n",
    "pizzas.isnull().sum()"
   ]
  },
  {
   "cell_type": "code",
   "execution_count": 6,
   "metadata": {},
   "outputs": [],
   "source": [
    "# remove variaveis desnecessarias para analise\n",
    "inuteis = ['menuPageURL', 'id']\n",
    "pizzas = pizzas.drop(inuteis, axis=1)  \n",
    "\n",
    "# Incrementa os valores nulos\n",
    "pizzas['menus.currency'].fillna('USD',inplace=True)\n",
    "pizzas['priceRangeCurrency'].fillna('USD',inplace=True)\n",
    "\n",
    "# Incrementa os valores com a média\n",
    "pizzas['priceRangeMin'].fillna(round(pizzas['priceRangeMin'].mean(), 2),inplace=True)\n",
    "pizzas['priceRangeMax'].fillna(round(pizzas['priceRangeMax'].mean(), 2),inplace=True)"
   ]
  },
  {
   "cell_type": "markdown",
   "metadata": {},
   "source": [
    "## Visualizações e Gráficos Estatisticos"
   ]
  },
  {
   "cell_type": "markdown",
   "metadata": {},
   "source": [
    "### Sabores"
   ]
  },
  {
   "cell_type": "markdown",
   "metadata": {},
   "source": [
    "Vamos analisar os sabores das pizzas e regionalmente onde se encontram"
   ]
  },
  {
   "cell_type": "code",
   "execution_count": 7,
   "metadata": {},
   "outputs": [
    {
     "data": {
      "image/png": "[encoded data removed]",
      "text/plain": [
       "<matplotlib.figure.Figure at 0xfaef156128>"
      ]
     },
     "metadata": {},
     "output_type": "display_data"
    }
   ],
   "source": [
    "# Sabores de pizza\n",
    "sabores = pizzas['menus.name'].value_counts() \n",
    "\n",
    "plt.figure(num=None, figsize=(8, 6), dpi=80, facecolor='w', edgecolor='k')\n",
    "sabores[:10].plot.bar()\n",
    "plt.title('10 pizzas mais comuns')\n",
    "plt.ylabel('Quantidade')      \n",
    "plt.show();"
   ]
  },
  {
   "cell_type": "markdown",
   "metadata": {},
   "source": [
    "Pizza de queijo é a campeã nos EUA. \n",
    "\n",
    "Se dermos uma olhada nos ultimos valores da lista vamos encontrar as pizzas mais \"exóticas\""
   ]
  },
  {
   "cell_type": "code",
   "execution_count": 8,
   "metadata": {},
   "outputs": [
    {
     "name": "stdout",
     "output_type": "stream",
     "text": [
      "Cheese Pizza             136\n",
      "White Pizza               75\n",
      "Margherita Pizza          63\n",
      "Pizza                     62\n",
      "Hawaiian Pizza            54\n",
      "Pizza Burger              50\n",
      "Bbq Chicken Pizza         47\n",
      "Buffalo Chicken Pizza     44\n",
      "Pepperoni Pizza           44\n",
      "Taco Pizza                34\n",
      "Veggie Pizza              34\n",
      "Pizza Sub                 33\n",
      "Pizza Steak               31\n",
      "Pizza Fries               31\n",
      "Pizza By The Slice        30\n",
      "Greek Pizza               30\n",
      "Mexican Pizza             29\n",
      "Pizza Margherita          28\n",
      "Pizza Bread               26\n",
      "Sicilian Pizza            24\n",
      "Vegetarian Pizza          21\n",
      "Create Your Own Pizza     20\n",
      "Build Your Own Pizza      18\n",
      "Breakfast Pizza           17\n",
      "Margarita Pizza           16\n",
      "Pizza Bagel               15\n",
      "Meat Lovers Pizza         14\n",
      "Specialty Pizza           13\n",
      "Pizza Roll                12\n",
      "Pizza Bianca              12\n",
      "Name: menus.name, dtype: int64\n"
     ]
    }
   ],
   "source": [
    "print(sabores.head(30))"
   ]
  },
  {
   "cell_type": "markdown",
   "metadata": {},
   "source": [
    "Me chamou atenção 4 tipos de pizzas:\n",
    " - Pizza Burger\n",
    " - Pizza Bread\n",
    " - Breakfast Pizza\n",
    " - Pizza Steak"
   ]
  },
  {
   "cell_type": "markdown",
   "metadata": {},
   "source": [
    "Vamos verificar no mapa onde são comercializas a Pizzas Burger"
   ]
  },
  {
   "cell_type": "code",
   "execution_count": 48,
   "metadata": {},
   "outputs": [
    {
     "data": {
      "text/html": [
       "<script>requirejs.config({paths: { 'plotly': ['https://cdn.plot.ly/plotly-latest.min']},});if(!window.Plotly) {{require(['plotly'],function(plotly) {window.Plotly=plotly;});}}</script>"
      ],
      "text/vnd.plotly.v1+html": [
       "<script>requirejs.config({paths: { 'plotly': ['https://cdn.plot.ly/plotly-latest.min']},});if(!window.Plotly) {{require(['plotly'],function(plotly) {window.Plotly=plotly;});}}</script>"
      ]
     },
     "metadata": {},
     "output_type": "display_data"
    },
    {
     "data": {
      "application/vnd.plotly.v1+json": {
       "data": [
        {
         "lat": [
          39.47173,
          39.938407,
          39.309917,
          40.5337146,
          39.922309999999996,
          41.83253,
          40.6183,
          40.771072,
          40.53234323,
          40.53234323,
          40.595734,
          33.68510357,
          41.788221,
          39.102779999999996,
          41.20270479,
          40.298971,
          39.96295557,
          39.967141,
          39.959928000000005,
          27.043706,
          40.78184351,
          35.48628117,
          39.875535,
          42.30408815,
          40.015196,
          39.97274886,
          41.08931,
          40.70027,
          41.306194,
          40.935615999999996,
          34.03250722,
          40.69212597,
          41.913864000000004,
          40.534969,
          40.183969899999994,
          41.144833,
          40.76688552,
          40.74551999,
          40.82343,
          39.972190000000005,
          42.00856491,
          40.88429673,
          44.936719200000006,
          26.11706487,
          40.87870891,
          40.612057,
          41.95853223,
          40.233795,
          40.83469579,
          41.6267
         ],
         "locationmode": "USA-states",
         "lon": [
          -76.63863,
          -75.159763,
          -76.44596999999999,
          -74.41911221,
          -75.17348,
          -71.45175,
          -74.02934,
          -74.02265,
          -74.30763611,
          -74.30763611,
          -74.29025,
          -117.99037460000001,
          -88.07471538,
          -84.51006,
          -73.72645245,
          -80.1740109,
          -74.94923864,
          -75.176412,
          -75.22591700000001,
          -82.233745,
          -72.84762752,
          -97.49983419,
          -88.973074,
          -89.65270679999999,
          -75.064006,
          -74.86997296,
          -74.01371999999999,
          -73.32266,
          -81.83521999999999,
          -74.13332241,
          -117.052255,
          -74.25411784,
          -87.84048,
          -84.574349,
          -75.45161311,
          -73.9899,
          -73.92162949,
          -89.63286271,
          -74.41798,
          -75.17922,
          -76.52728996,
          -74.21228361,
          -93.64211798,
          -80.33117294,
          -73.90431182,
          -75.37441,
          -73.98853826,
          -75.29139,
          -73.94468171,
          -79.6726
         ],
         "marker": {
          "autocolorscale": false,
          "line": {
           "color": "rgba(102, 102, 102)",
           "width": 1
          },
          "opacity": 0.6,
          "reversescale": true,
          "size": 8,
          "symbol": "circle"
         },
         "mode": "markers",
         "text": [
          "Cockeysville",
          "Philadelphia",
          "Essex",
          "Piscataway",
          "Philadelphia",
          "Providence",
          "Brooklyn",
          "Weehawken",
          "Fords",
          "Fords",
          "Rahway",
          "Huntington Beach",
          "Lisle",
          "Cincinnati",
          "Mount Kisco",
          "Canonsburg",
          "Moorestown",
          "Philadelphia",
          "Philadelphia",
          "North Port",
          "Mastic Beach",
          "Oklahoma City",
          "Decatur",
          "Freeport",
          "Philadelphia",
          "Mount Laurel",
          "Nanuet",
          "Babylon",
          "Strongsville",
          "Fair Lawn",
          "Yucaipa",
          "Union",
          "River Grove",
          "Celina",
          "Collegeville",
          "New City",
          "Astoria",
          "Peoria",
          "Whippany",
          "Philadelphia",
          "Waverly",
          "Little Falls",
          "Spring Park",
          "Fort Lauderdale",
          "Bronx",
          "Bethlehem",
          "Kingston",
          "Lansdale",
          "New York",
          "Titusville"
         ],
         "type": "scattergeo"
        }
       ],
       "layout": {
        "geo": {
         "countrycolor": "rgb(217, 217, 217)",
         "countrywidth": 0.5,
         "landcolor": "rgb(250, 250, 250)",
         "projection": {
          "type": "albers usa"
         },
         "scope": "usa",
         "showland": true,
         "subunitcolor": "rgb(217, 217, 217)",
         "subunitwidth": 0.5
        },
        "title": "Localizações das pizzas sabor Pizza Burger"
       }
      },
      "text/html": [
       "<div id=\"cb71b79b-c996-4ada-ac51-4274398219e0\" style=\"height: 525px; width: 100%;\" class=\"plotly-graph-div\"></div><script type=\"text/javascript\">require([\"plotly\"], function(Plotly) { window.PLOTLYENV=window.PLOTLYENV || {};window.PLOTLYENV.BASE_URL=\"https://plot.ly\";Plotly.newPlot(\"cb71b79b-c996-4ada-ac51-4274398219e0\", [{\"type\": \"scattergeo\", \"lat\": [39.47173, 39.938407, 39.309917, 40.5337146, 39.922309999999996, 41.83253, 40.6183, 40.771072, 40.53234323, 40.53234323, 40.595734, 33.68510357, 41.788221, 39.102779999999996, 41.20270479, 40.298971, 39.96295557, 39.967141, 39.959928000000005, 27.043706, 40.78184351, 35.48628117, 39.875535, 42.30408815, 40.015196, 39.97274886, 41.08931, 40.70027, 41.306194, 40.935615999999996, 34.03250722, 40.69212597, 41.913864000000004, 40.534969, 40.183969899999994, 41.144833, 40.76688552, 40.74551999, 40.82343, 39.972190000000005, 42.00856491, 40.88429673, 44.936719200000006, 26.11706487, 40.87870891, 40.612057, 41.95853223, 40.233795, 40.83469579, 41.6267], \"text\": [\"Cockeysville\", \"Philadelphia\", \"Essex\", \"Piscataway\", \"Philadelphia\", \"Providence\", \"Brooklyn\", \"Weehawken\", \"Fords\", \"Fords\", \"Rahway\", \"Huntington Beach\", \"Lisle\", \"Cincinnati\", \"Mount Kisco\", \"Canonsburg\", \"Moorestown\", \"Philadelphia\", \"Philadelphia\", \"North Port\", \"Mastic Beach\", \"Oklahoma City\", \"Decatur\", \"Freeport\", \"Philadelphia\", \"Mount Laurel\", \"Nanuet\", \"Babylon\", \"Strongsville\", \"Fair Lawn\", \"Yucaipa\", \"Union\", \"River Grove\", \"Celina\", \"Collegeville\", \"New City\", \"Astoria\", \"Peoria\", \"Whippany\", \"Philadelphia\", \"Waverly\", \"Little Falls\", \"Spring Park\", \"Fort Lauderdale\", \"Bronx\", \"Bethlehem\", \"Kingston\", \"Lansdale\", \"New York\", \"Titusville\"], \"locationmode\": \"USA-states\", \"marker\": {\"reversescale\": true, \"symbol\": \"circle\", \"opacity\": 0.6, \"size\": 8, \"line\": {\"width\": 1, \"color\": \"rgba(102, 102, 102)\"}, \"autocolorscale\": false}, \"mode\": \"markers\", \"lon\": [-76.63863, -75.159763, -76.44596999999999, -74.41911221, -75.17348, -71.45175, -74.02934, -74.02265, -74.30763611, -74.30763611, -74.29025, -117.99037460000001, -88.07471538, -84.51006, -73.72645245, -80.1740109, -74.94923864, -75.176412, -75.22591700000001, -82.233745, -72.84762752, -97.49983419, -88.973074, -89.65270679999999, -75.064006, -74.86997296, -74.01371999999999, -73.32266, -81.83521999999999, -74.13332241, -117.052255, -74.25411784, -87.84048, -84.574349, -75.45161311, -73.9899, -73.92162949, -89.63286271, -74.41798, -75.17922, -76.52728996, -74.21228361, -93.64211798, -80.33117294, -73.90431182, -75.37441, -73.98853826, -75.29139, -73.94468171, -79.6726]}], {\"geo\": {\"landcolor\": \"rgb(250, 250, 250)\", \"subunitwidth\": 0.5, \"subunitcolor\": \"rgb(217, 217, 217)\", \"scope\": \"usa\", \"projection\": {\"type\": \"albers usa\"}, \"showland\": true, \"countrycolor\": \"rgb(217, 217, 217)\", \"countrywidth\": 0.5}, \"title\": \"Localiza\\u00e7\\u00f5es das pizzas sabor Pizza Burger\"}, {\"linkText\": \"Export to plot.ly\", \"showLink\": true})});</script>"
      ],
      "text/vnd.plotly.v1+html": [
       "<div id=\"cb71b79b-c996-4ada-ac51-4274398219e0\" style=\"height: 525px; width: 100%;\" class=\"plotly-graph-div\"></div><script type=\"text/javascript\">require([\"plotly\"], function(Plotly) { window.PLOTLYENV=window.PLOTLYENV || {};window.PLOTLYENV.BASE_URL=\"https://plot.ly\";Plotly.newPlot(\"cb71b79b-c996-4ada-ac51-4274398219e0\", [{\"type\": \"scattergeo\", \"lat\": [39.47173, 39.938407, 39.309917, 40.5337146, 39.922309999999996, 41.83253, 40.6183, 40.771072, 40.53234323, 40.53234323, 40.595734, 33.68510357, 41.788221, 39.102779999999996, 41.20270479, 40.298971, 39.96295557, 39.967141, 39.959928000000005, 27.043706, 40.78184351, 35.48628117, 39.875535, 42.30408815, 40.015196, 39.97274886, 41.08931, 40.70027, 41.306194, 40.935615999999996, 34.03250722, 40.69212597, 41.913864000000004, 40.534969, 40.183969899999994, 41.144833, 40.76688552, 40.74551999, 40.82343, 39.972190000000005, 42.00856491, 40.88429673, 44.936719200000006, 26.11706487, 40.87870891, 40.612057, 41.95853223, 40.233795, 40.83469579, 41.6267], \"text\": [\"Cockeysville\", \"Philadelphia\", \"Essex\", \"Piscataway\", \"Philadelphia\", \"Providence\", \"Brooklyn\", \"Weehawken\", \"Fords\", \"Fords\", \"Rahway\", \"Huntington Beach\", \"Lisle\", \"Cincinnati\", \"Mount Kisco\", \"Canonsburg\", \"Moorestown\", \"Philadelphia\", \"Philadelphia\", \"North Port\", \"Mastic Beach\", \"Oklahoma City\", \"Decatur\", \"Freeport\", \"Philadelphia\", \"Mount Laurel\", \"Nanuet\", \"Babylon\", \"Strongsville\", \"Fair Lawn\", \"Yucaipa\", \"Union\", \"River Grove\", \"Celina\", \"Collegeville\", \"New City\", \"Astoria\", \"Peoria\", \"Whippany\", \"Philadelphia\", \"Waverly\", \"Little Falls\", \"Spring Park\", \"Fort Lauderdale\", \"Bronx\", \"Bethlehem\", \"Kingston\", \"Lansdale\", \"New York\", \"Titusville\"], \"locationmode\": \"USA-states\", \"marker\": {\"reversescale\": true, \"symbol\": \"circle\", \"opacity\": 0.6, \"size\": 8, \"line\": {\"width\": 1, \"color\": \"rgba(102, 102, 102)\"}, \"autocolorscale\": false}, \"mode\": \"markers\", \"lon\": [-76.63863, -75.159763, -76.44596999999999, -74.41911221, -75.17348, -71.45175, -74.02934, -74.02265, -74.30763611, -74.30763611, -74.29025, -117.99037460000001, -88.07471538, -84.51006, -73.72645245, -80.1740109, -74.94923864, -75.176412, -75.22591700000001, -82.233745, -72.84762752, -97.49983419, -88.973074, -89.65270679999999, -75.064006, -74.86997296, -74.01371999999999, -73.32266, -81.83521999999999, -74.13332241, -117.052255, -74.25411784, -87.84048, -84.574349, -75.45161311, -73.9899, -73.92162949, -89.63286271, -74.41798, -75.17922, -76.52728996, -74.21228361, -93.64211798, -80.33117294, -73.90431182, -75.37441, -73.98853826, -75.29139, -73.94468171, -79.6726]}], {\"geo\": {\"landcolor\": \"rgb(250, 250, 250)\", \"subunitwidth\": 0.5, \"subunitcolor\": \"rgb(217, 217, 217)\", \"scope\": \"usa\", \"projection\": {\"type\": \"albers usa\"}, \"showland\": true, \"countrycolor\": \"rgb(217, 217, 217)\", \"countrywidth\": 0.5}, \"title\": \"Localiza\\u00e7\\u00f5es das pizzas sabor Pizza Burger\"}, {\"linkText\": \"Export to plot.ly\", \"showLink\": true})});</script>"
      ]
     },
     "metadata": {},
     "output_type": "display_data"
    }
   ],
   "source": [
    "# Pizza Burger\n",
    "pb_df = pizzas[pizzas['menus.name']=='Pizza Burger'] #Dataframe apenas para Pizza Burger\n",
    "\n",
    "# Parametros do mapa\n",
    "data = [ dict(\n",
    "        type = 'scattergeo',\n",
    "        locationmode = 'USA-states',\n",
    "        lon = pb_df['longitude'],\n",
    "        lat = pb_df['latitude'],\n",
    "        text = pb_df['city'],\n",
    "        mode = 'markers',\n",
    "        marker = dict( \n",
    "            size = 8, \n",
    "            opacity = 0.6,\n",
    "            reversescale = True,\n",
    "            autocolorscale = False,\n",
    "            symbol = 'circle',\n",
    "            line = dict(\n",
    "                width=1,\n",
    "                color='rgba(102, 102, 102)'\n",
    "            )))]\n",
    "\n",
    "# Layout\n",
    "layout = dict(\n",
    "        title = 'Localizações das pizzas sabor Pizza Burger',\n",
    "        geo = dict(\n",
    "            scope='usa',\n",
    "            projection=dict( type='albers usa'),\n",
    "            showland = True,\n",
    "            landcolor = \"rgb(250, 250, 250)\",\n",
    "            subunitcolor = \"rgb(217, 217, 217)\",\n",
    "            countrycolor = \"rgb(217, 217, 217)\",\n",
    "            countrywidth = 0.5,\n",
    "            subunitwidth = 0.5))\n",
    "\n",
    "py.init_notebook_mode(connected=True)\n",
    "fig = dict( data=data, layout=layout )\n",
    "py.iplot(fig, filename='pizzasBurger.html')"
   ]
  },
  {
   "cell_type": "markdown",
   "metadata": {},
   "source": [
    "A Pizza Burger possui uma predominancia maior na região da Nova Jersey, Pensilvania e Nova York, com alguns pontos em Illinois, Florida e California."
   ]
  },
  {
   "cell_type": "markdown",
   "metadata": {},
   "source": [
    "Essa tal de White pizza...nunca ouvi falar\n",
    "\n",
    "Ela possui 75 pontos mas me parece ser um pouco popular, vamos ver geograficamente:"
   ]
  },
  {
   "cell_type": "code",
   "execution_count": 10,
   "metadata": {},
   "outputs": [
    {
     "data": {
      "text/html": [
       "<script>requirejs.config({paths: { 'plotly': ['https://cdn.plot.ly/plotly-latest.min']},});if(!window.Plotly) {{require(['plotly'],function(plotly) {window.Plotly=plotly;});}}</script>"
      ],
      "text/vnd.plotly.v1+html": [
       "<script>requirejs.config({paths: { 'plotly': ['https://cdn.plot.ly/plotly-latest.min']},});if(!window.Plotly) {{require(['plotly'],function(plotly) {window.Plotly=plotly;});}}</script>"
      ]
     },
     "metadata": {},
     "output_type": "display_data"
    },
    {
     "data": {
      "application/vnd.plotly.v1+json": {
       "data": [
        {
         "lat": [
          35.98879,
          41.266346,
          40.24614006,
          40.24614006,
          39.47173,
          44.99395,
          39.812653000000005,
          40.909079999999996,
          39.309917,
          39.64946776,
          39.684379,
          36.25869691,
          38.562374,
          35.13593,
          40.633866999999995,
          41.02836,
          30.40052,
          38.60194477,
          42.140137,
          40.771072,
          38.287037,
          39.057884,
          41.38983786,
          40.045303999999994,
          40.789204999999995,
          40.075024,
          40.351893,
          33.99702659,
          29.171678999999997,
          32.763278,
          45.75524,
          37.230979999999995,
          37.65667639,
          29.776645000000002,
          39.34125,
          35.306490000000004,
          39.845936,
          42.33614,
          34.0443,
          41.03797691,
          46.877681,
          41.940498,
          39.640263,
          30.24507289,
          41.7748279,
          26.272893100000005,
          40.437874,
          37.792590000000004,
          41.08931,
          40.70027,
          42.83517,
          28.24601,
          42.501686,
          40.21194093,
          40.192983,
          43.21458662,
          34.544838,
          40.183969899999994,
          41.79690003,
          40.82343,
          33.10218459,
          43.0689,
          43.10204,
          40.737167,
          32.570076,
          37.67888023,
          41.2388,
          40.624927,
          26.262204999999998,
          41.151892,
          40.856,
          30.353264000000003,
          40.2485,
          26.06309078,
          37.69316
         ],
         "locationmode": "USA-states",
         "lon": [
          -115.101074,
          -96.119545,
          -74.74381959,
          -74.74381959,
          -76.63863,
          -93.50191,
          -105.166004,
          -74.09194000000001,
          -76.44596999999999,
          -86.08348131,
          -89.706158,
          -86.71407402,
          -121.328061,
          -90.01149000000001,
          -74.309443,
          -73.76654,
          -97.72676,
          -90.44655146,
          -71.39676999999999,
          -74.02265,
          -85.57828,
          -77.12069,
          -81.85288100000001,
          -75.388245,
          -73.973906,
          -74.865974,
          -79.82724,
          -84.0932849,
          -82.13436,
          -97.028265,
          -108.59658,
          -80.4148,
          -77.61892303,
          -95.753157,
          -76.76138,
          -82.45260999999999,
          -74.97344,
          -71.59653,
          -118.45478,
          -73.75999849,
          -114.01211799999999,
          -72.72766999999999,
          -106.374195,
          -97.73014784,
          -72.54840466,
          -80.21054362,
          -74.39200600000001,
          -81.21916,
          -74.01371999999999,
          -73.32266,
          -71.64986400000001,
          -81.27924,
          -70.85692,
          -77.00547516,
          -76.691898,
          -75.44679613,
          -112.4684639,
          -75.45161311,
          -73.91399757,
          -74.41798,
          -96.64893309,
          -70.7726,
          -78.96175,
          -73.20800486,
          -97.09477,
          -97.136386,
          -75.9525,
          -74.079217,
          -80.09921,
          -73.829087,
          -73.96708000000001,
          -97.725494,
          -75.361652,
          -80.20327900000001,
          -77.43744000000001
         ],
         "marker": {
          "autocolorscale": false,
          "line": {
           "color": "rgba(102, 102, 102)",
           "width": 1
          },
          "opacity": 0.6,
          "reversescale": true,
          "size": 8,
          "symbol": "circle"
         },
         "mode": "markers",
         "text": [
          "Henderson",
          "Omaha",
          "Lawrence Township",
          "Lawrence Township",
          "Cockeysville",
          "Minneapolis",
          "Arvada",
          "Saddle Brook",
          "Essex",
          "Indianapolis",
          "Chatham",
          "Madison",
          "Sacramento",
          "Memphis",
          "Clark",
          "White Plains",
          "Austin",
          "Saint Louis",
          "Medway",
          "Weehawken",
          "Louisville",
          "Rockville",
          "Brookpark",
          "Wayne",
          "New York",
          "Burlington",
          "Mckeesport",
          "Duluth",
          "Ocala",
          "Grand Prairie",
          "Billings",
          "Blacksburg",
          "Henrico",
          "Katy",
          "Windsor Mill",
          "Hendersonville",
          "Voorhees",
          "Marlborough",
          "Los Angeles",
          "White Plains",
          "Missoula",
          "East Granby",
          "Vail",
          "Austin",
          "Manchester",
          "Pompano Beach",
          "East Brunswick",
          "Beckley",
          "Nanuet",
          "Babylon",
          "Milford",
          "Saint Cloud",
          "Marblehead",
          "Mechanicsburg",
          "Middletown",
          "Rome",
          "Prescott",
          "Collegeville",
          "Hyde Park",
          "Whippany",
          "Allen",
          "Portsmouth",
          "Niagara Falls",
          "Islip",
          "Mansfield",
          "Andover",
          "Plymouth",
          "Staten Island",
          "Pompano Beach",
          "Briarcliff Manor",
          "Fort Lee",
          "Austin",
          "Harleysville",
          "Fort Lauderdale",
          "Ashland"
         ],
         "type": "scattergeo"
        }
       ],
       "layout": {
        "geo": {
         "countrycolor": "rgb(217, 217, 217)",
         "countrywidth": 0.5,
         "landcolor": "rgb(250, 250, 250)",
         "projection": {
          "type": "albers usa"
         },
         "scope": "usa",
         "showland": true,
         "subunitcolor": "rgb(217, 217, 217)",
         "subunitwidth": 0.5
        },
        "title": "Localizações das pizzas sabor White Pizza"
       }
      },
      "text/html": [
       "<div id=\"9fa2b774-723b-4702-9b2e-455594af1885\" style=\"height: 525px; width: 100%;\" class=\"plotly-graph-div\"></div><script type=\"text/javascript\">require([\"plotly\"], function(Plotly) { window.PLOTLYENV=window.PLOTLYENV || {};window.PLOTLYENV.BASE_URL=\"https://plot.ly\";Plotly.newPlot(\"9fa2b774-723b-4702-9b2e-455594af1885\", [{\"type\": \"scattergeo\", \"lat\": [35.98879, 41.266346, 40.24614006, 40.24614006, 39.47173, 44.99395, 39.812653000000005, 40.909079999999996, 39.309917, 39.64946776, 39.684379, 36.25869691, 38.562374, 35.13593, 40.633866999999995, 41.02836, 30.40052, 38.60194477, 42.140137, 40.771072, 38.287037, 39.057884, 41.38983786, 40.045303999999994, 40.789204999999995, 40.075024, 40.351893, 33.99702659, 29.171678999999997, 32.763278, 45.75524, 37.230979999999995, 37.65667639, 29.776645000000002, 39.34125, 35.306490000000004, 39.845936, 42.33614, 34.0443, 41.03797691, 46.877681, 41.940498, 39.640263, 30.24507289, 41.7748279, 26.272893100000005, 40.437874, 37.792590000000004, 41.08931, 40.70027, 42.83517, 28.24601, 42.501686, 40.21194093, 40.192983, 43.21458662, 34.544838, 40.183969899999994, 41.79690003, 40.82343, 33.10218459, 43.0689, 43.10204, 40.737167, 32.570076, 37.67888023, 41.2388, 40.624927, 26.262204999999998, 41.151892, 40.856, 30.353264000000003, 40.2485, 26.06309078, 37.69316], \"text\": [\"Henderson\", \"Omaha\", \"Lawrence Township\", \"Lawrence Township\", \"Cockeysville\", \"Minneapolis\", \"Arvada\", \"Saddle Brook\", \"Essex\", \"Indianapolis\", \"Chatham\", \"Madison\", \"Sacramento\", \"Memphis\", \"Clark\", \"White Plains\", \"Austin\", \"Saint Louis\", \"Medway\", \"Weehawken\", \"Louisville\", \"Rockville\", \"Brookpark\", \"Wayne\", \"New York\", \"Burlington\", \"Mckeesport\", \"Duluth\", \"Ocala\", \"Grand Prairie\", \"Billings\", \"Blacksburg\", \"Henrico\", \"Katy\", \"Windsor Mill\", \"Hendersonville\", \"Voorhees\", \"Marlborough\", \"Los Angeles\", \"White Plains\", \"Missoula\", \"East Granby\", \"Vail\", \"Austin\", \"Manchester\", \"Pompano Beach\", \"East Brunswick\", \"Beckley\", \"Nanuet\", \"Babylon\", \"Milford\", \"Saint Cloud\", \"Marblehead\", \"Mechanicsburg\", \"Middletown\", \"Rome\", \"Prescott\", \"Collegeville\", \"Hyde Park\", \"Whippany\", \"Allen\", \"Portsmouth\", \"Niagara Falls\", \"Islip\", \"Mansfield\", \"Andover\", \"Plymouth\", \"Staten Island\", \"Pompano Beach\", \"Briarcliff Manor\", \"Fort Lee\", \"Austin\", \"Harleysville\", \"Fort Lauderdale\", \"Ashland\"], \"locationmode\": \"USA-states\", \"marker\": {\"reversescale\": true, \"symbol\": \"circle\", \"opacity\": 0.6, \"size\": 8, \"line\": {\"width\": 1, \"color\": \"rgba(102, 102, 102)\"}, \"autocolorscale\": false}, \"mode\": \"markers\", \"lon\": [-115.101074, -96.119545, -74.74381959, -74.74381959, -76.63863, -93.50191, -105.166004, -74.09194000000001, -76.44596999999999, -86.08348131, -89.706158, -86.71407402, -121.328061, -90.01149000000001, -74.309443, -73.76654, -97.72676, -90.44655146, -71.39676999999999, -74.02265, -85.57828, -77.12069, -81.85288100000001, -75.388245, -73.973906, -74.865974, -79.82724, -84.0932849, -82.13436, -97.028265, -108.59658, -80.4148, -77.61892303, -95.753157, -76.76138, -82.45260999999999, -74.97344, -71.59653, -118.45478, -73.75999849, -114.01211799999999, -72.72766999999999, -106.374195, -97.73014784, -72.54840466, -80.21054362, -74.39200600000001, -81.21916, -74.01371999999999, -73.32266, -71.64986400000001, -81.27924, -70.85692, -77.00547516, -76.691898, -75.44679613, -112.4684639, -75.45161311, -73.91399757, -74.41798, -96.64893309, -70.7726, -78.96175, -73.20800486, -97.09477, -97.136386, -75.9525, -74.079217, -80.09921, -73.829087, -73.96708000000001, -97.725494, -75.361652, -80.20327900000001, -77.43744000000001]}], {\"geo\": {\"landcolor\": \"rgb(250, 250, 250)\", \"subunitwidth\": 0.5, \"subunitcolor\": \"rgb(217, 217, 217)\", \"scope\": \"usa\", \"projection\": {\"type\": \"albers usa\"}, \"showland\": true, \"countrycolor\": \"rgb(217, 217, 217)\", \"countrywidth\": 0.5}, \"title\": \"Localiza\\u00e7\\u00f5es das pizzas sabor White Pizza\"}, {\"linkText\": \"Export to plot.ly\", \"showLink\": true})});</script>"
      ],
      "text/vnd.plotly.v1+html": [
       "<div id=\"9fa2b774-723b-4702-9b2e-455594af1885\" style=\"height: 525px; width: 100%;\" class=\"plotly-graph-div\"></div><script type=\"text/javascript\">require([\"plotly\"], function(Plotly) { window.PLOTLYENV=window.PLOTLYENV || {};window.PLOTLYENV.BASE_URL=\"https://plot.ly\";Plotly.newPlot(\"9fa2b774-723b-4702-9b2e-455594af1885\", [{\"type\": \"scattergeo\", \"lat\": [35.98879, 41.266346, 40.24614006, 40.24614006, 39.47173, 44.99395, 39.812653000000005, 40.909079999999996, 39.309917, 39.64946776, 39.684379, 36.25869691, 38.562374, 35.13593, 40.633866999999995, 41.02836, 30.40052, 38.60194477, 42.140137, 40.771072, 38.287037, 39.057884, 41.38983786, 40.045303999999994, 40.789204999999995, 40.075024, 40.351893, 33.99702659, 29.171678999999997, 32.763278, 45.75524, 37.230979999999995, 37.65667639, 29.776645000000002, 39.34125, 35.306490000000004, 39.845936, 42.33614, 34.0443, 41.03797691, 46.877681, 41.940498, 39.640263, 30.24507289, 41.7748279, 26.272893100000005, 40.437874, 37.792590000000004, 41.08931, 40.70027, 42.83517, 28.24601, 42.501686, 40.21194093, 40.192983, 43.21458662, 34.544838, 40.183969899999994, 41.79690003, 40.82343, 33.10218459, 43.0689, 43.10204, 40.737167, 32.570076, 37.67888023, 41.2388, 40.624927, 26.262204999999998, 41.151892, 40.856, 30.353264000000003, 40.2485, 26.06309078, 37.69316], \"text\": [\"Henderson\", \"Omaha\", \"Lawrence Township\", \"Lawrence Township\", \"Cockeysville\", \"Minneapolis\", \"Arvada\", \"Saddle Brook\", \"Essex\", \"Indianapolis\", \"Chatham\", \"Madison\", \"Sacramento\", \"Memphis\", \"Clark\", \"White Plains\", \"Austin\", \"Saint Louis\", \"Medway\", \"Weehawken\", \"Louisville\", \"Rockville\", \"Brookpark\", \"Wayne\", \"New York\", \"Burlington\", \"Mckeesport\", \"Duluth\", \"Ocala\", \"Grand Prairie\", \"Billings\", \"Blacksburg\", \"Henrico\", \"Katy\", \"Windsor Mill\", \"Hendersonville\", \"Voorhees\", \"Marlborough\", \"Los Angeles\", \"White Plains\", \"Missoula\", \"East Granby\", \"Vail\", \"Austin\", \"Manchester\", \"Pompano Beach\", \"East Brunswick\", \"Beckley\", \"Nanuet\", \"Babylon\", \"Milford\", \"Saint Cloud\", \"Marblehead\", \"Mechanicsburg\", \"Middletown\", \"Rome\", \"Prescott\", \"Collegeville\", \"Hyde Park\", \"Whippany\", \"Allen\", \"Portsmouth\", \"Niagara Falls\", \"Islip\", \"Mansfield\", \"Andover\", \"Plymouth\", \"Staten Island\", \"Pompano Beach\", \"Briarcliff Manor\", \"Fort Lee\", \"Austin\", \"Harleysville\", \"Fort Lauderdale\", \"Ashland\"], \"locationmode\": \"USA-states\", \"marker\": {\"reversescale\": true, \"symbol\": \"circle\", \"opacity\": 0.6, \"size\": 8, \"line\": {\"width\": 1, \"color\": \"rgba(102, 102, 102)\"}, \"autocolorscale\": false}, \"mode\": \"markers\", \"lon\": [-115.101074, -96.119545, -74.74381959, -74.74381959, -76.63863, -93.50191, -105.166004, -74.09194000000001, -76.44596999999999, -86.08348131, -89.706158, -86.71407402, -121.328061, -90.01149000000001, -74.309443, -73.76654, -97.72676, -90.44655146, -71.39676999999999, -74.02265, -85.57828, -77.12069, -81.85288100000001, -75.388245, -73.973906, -74.865974, -79.82724, -84.0932849, -82.13436, -97.028265, -108.59658, -80.4148, -77.61892303, -95.753157, -76.76138, -82.45260999999999, -74.97344, -71.59653, -118.45478, -73.75999849, -114.01211799999999, -72.72766999999999, -106.374195, -97.73014784, -72.54840466, -80.21054362, -74.39200600000001, -81.21916, -74.01371999999999, -73.32266, -71.64986400000001, -81.27924, -70.85692, -77.00547516, -76.691898, -75.44679613, -112.4684639, -75.45161311, -73.91399757, -74.41798, -96.64893309, -70.7726, -78.96175, -73.20800486, -97.09477, -97.136386, -75.9525, -74.079217, -80.09921, -73.829087, -73.96708000000001, -97.725494, -75.361652, -80.20327900000001, -77.43744000000001]}], {\"geo\": {\"landcolor\": \"rgb(250, 250, 250)\", \"subunitwidth\": 0.5, \"subunitcolor\": \"rgb(217, 217, 217)\", \"scope\": \"usa\", \"projection\": {\"type\": \"albers usa\"}, \"showland\": true, \"countrycolor\": \"rgb(217, 217, 217)\", \"countrywidth\": 0.5}, \"title\": \"Localiza\\u00e7\\u00f5es das pizzas sabor White Pizza\"}, {\"linkText\": \"Export to plot.ly\", \"showLink\": true})});</script>"
      ]
     },
     "metadata": {},
     "output_type": "display_data"
    }
   ],
   "source": [
    "# White Pizza\n",
    "wp_df = pizzas[pizzas['menus.name']=='White Pizza'] #Dataframe apenas para White Pizza\n",
    "\n",
    "# Parametros do mapa\n",
    "data = [ dict(\n",
    "        type = 'scattergeo',\n",
    "        locationmode = 'USA-states',\n",
    "        lon = wp_df['longitude'],\n",
    "        lat = wp_df['latitude'],\n",
    "        text = wp_df['city'],\n",
    "        mode = 'markers',\n",
    "        marker = dict( \n",
    "            size = 8, \n",
    "            opacity = 0.6,\n",
    "            reversescale = True,\n",
    "            autocolorscale = False,\n",
    "            symbol = 'circle',\n",
    "            line = dict(\n",
    "                width=1,\n",
    "                color='rgba(102, 102, 102)'\n",
    "            )))]\n",
    "\n",
    "# Layout\n",
    "layout = dict(\n",
    "        title = 'Localizações das pizzas sabor White Pizza',\n",
    "        geo = dict(\n",
    "            scope='usa',\n",
    "            projection=dict( type='albers usa'),\n",
    "            showland = True,\n",
    "            landcolor = \"rgb(250, 250, 250)\",\n",
    "            subunitcolor = \"rgb(217, 217, 217)\",\n",
    "            countrycolor = \"rgb(217, 217, 217)\",\n",
    "            countrywidth = 0.5,\n",
    "            subunitwidth = 0.5))\n",
    "\n",
    "py.init_notebook_mode(connected=True)\n",
    "fig = dict( data=data, layout=layout )\n",
    "py.iplot(fig, filename='whitePizza.html')"
   ]
  },
  {
   "cell_type": "markdown",
   "metadata": {},
   "source": [
    "Ela parece ser bem mais distriuida geograficamente do que a Pizza Burguer.\n",
    "\n",
    "Se pegarmos os ingredientes dessa pizza parece ser bem parecida com a nossa classica 4 ou 3 queijos"
   ]
  },
  {
   "cell_type": "code",
   "execution_count": 11,
   "metadata": {
    "scrolled": true
   },
   "outputs": [
    {
     "data": {
      "text/plain": [
       "Ricotta, Mozzarella and Garlic                                                                                                                                                            2\n",
       "Traditional plain                                                                                                                                                                         1\n",
       "Ricotta and mozzarella cheese with a hint of olive oil.                                                                                                                                   1\n",
       "Alfredo sauce, smoked provolone, artichoke hearts, mushrooms, spinach                                                                                                                     1\n",
       "Bacon, Onions, Jumpin Good Goat Farms Feta, Thyme, Pepperoncini                                                                                                                           1\n",
       "With broccoli or tomatoes                                                                                                                                                                 1\n",
       "Fresh mozzarella, fresh parmesan and fresh garlic                                                                                                                                         1\n",
       "For all you cheese lovers.                                                                                                                                                                1\n",
       "Provolone cheese, garlic, olive oil, sliced tomatoes (may substitute another topping)                                                                                                     1\n",
       "Mozzarella and Ricotta                                                                                                                                                                    1\n",
       "14 in. with Olive Oil, Fresh Garlic, and Cheese                                                                                                                                           1\n",
       "With Broccoli                                                                                                                                                                             1\n",
       "Ricotta cheese and mozzarella                                                                                                                                                             1\n",
       "Special blend of ricotta and mozzarella, grated cheese, italian spices, asiago and fontanina                                                                                              1\n",
       "Mozzarella, ricotta, garlic, no sauce                                                                                                                                                     1\n",
       "Garlic sauce, spinach, ricotta and mozzarella.                                                                                                                                            1\n",
       "Alfredo sauce, fresh spinach, red bell pepper, fresh garlic, broccoli and mozzarella cheese                                                                                               1\n",
       "Mozzarella cheese, ricotta cheese, garlic, fresh tomatoes, olive oil, fresh oregano                                                                                                       1\n",
       "Ricotta cheese, pecorino romano cheese, mozzarella cheese and fresh garlic (no tomato sauce)                                                                                              1\n",
       "Ricotta and parmesan cheese, garlic and herbs.                                                                                                                                            1\n",
       "Greek style pizza                                                                                                                                                                         1\n",
       "Olive oil, fresh garlic, basil and oregano with your choice of toppings                                                                                                                   1\n",
       "Olive Oil, Minced Garlic, Fresh Basil and Seasoned Ricotta Cheese                                                                                                                         1\n",
       "ricotta, mozzarella, spinach, garlic, tomatoes                                                                                                                                            1\n",
       "Mozzarella, ricotta and parmesan cheeses                                                                                                                                                  1\n",
       "Ricotta Cheese, Mozzarella Cheese                                                                                                                                                         1\n",
       "Mozzarella cheese, basil garlic, oregano, olive oil                                                                                                                                       1\n",
       "Our white pizza offers a break from the traditional pizza. it starts off with our own hand tossed dough, covered in aglio e olio sauce, then topped with mozzarella and ricotta cheese    1\n",
       "Classic cheese or create your own pizza.                                                                                                                                                  1\n",
       "Neopolitian White Pizza With Sauce or NO Sauce (Your choice, please specify)                                                                                                              1\n",
       "Extra virgin oil and fresh garlic with ricotta cheese as a base topped with our cheese blend.                                                                                             1\n",
       "With ricotta and mozzarella cheese.                                                                                                                                                       1\n",
       "Name: menus.description, dtype: int64"
      ]
     },
     "execution_count": 11,
     "metadata": {},
     "output_type": "execute_result"
    }
   ],
   "source": [
    "wp_df['menus.description'].value_counts()"
   ]
  },
  {
   "cell_type": "markdown",
   "metadata": {},
   "source": [
    "Vamos analisar as pizzas vegetarianas :)))\n",
    "\n",
    "Se voltarmos lá para a lista de sabores podemos ver que existem 151 sabores de pizzas vegetarias/veganas no dataset, basicamente nomes diferentes com os mesmos ingredientes."
   ]
  },
  {
   "cell_type": "code",
   "execution_count": 49,
   "metadata": {},
   "outputs": [
    {
     "name": "stdout",
     "output_type": "stream",
     "text": [
      "Quantidade:  151\n"
     ]
    }
   ],
   "source": [
    "# Verificando a quantidade de pizzas vegetarias/veganas\n",
    "print(\"Quantidade: \", len(pizzas[pizzas[\"menus.name\"].str.lower().str.contains(\"veg\")]))"
   ]
  },
  {
   "cell_type": "markdown",
   "metadata": {},
   "source": [
    "Vamos analisar as Vegetarian Pizzas e as Veggie Pizzas"
   ]
  },
  {
   "cell_type": "code",
   "execution_count": 13,
   "metadata": {},
   "outputs": [
    {
     "name": "stdout",
     "output_type": "stream",
     "text": [
      "Vegetarian Pizzas 32\n",
      "Veggie Pizzas 77\n",
      "Vegetable Pizzas 30\n"
     ]
    }
   ],
   "source": [
    "# Quantidade de pizzas Vegetarias e Veganas\n",
    "print(\"Vegetarian Pizzas\", len(pizzas[pizzas[\"menus.name\"].str.lower().str.contains(\"vegetarian\")])) \n",
    "print(\"Veggie Pizzas\", len(pizzas[pizzas[\"menus.name\"].str.lower().str.contains(\"veggie\")])) \n",
    "print(\"Vegetable Pizzas\", len(pizzas[pizzas[\"menus.name\"].str.lower().str.contains(\"vegetable\")])) "
   ]
  },
  {
   "cell_type": "markdown",
   "metadata": {},
   "source": [
    "Existe mais opções de pizzas veganas que vegetarias nos EUA :o\n",
    "\n",
    "Talvez porque com as Pizzas Veganas você atinge 2 publicos de uma unica vez.\n",
    "\n",
    "Existe tambem a opção Gluten Free:"
   ]
  },
  {
   "cell_type": "code",
   "execution_count": 14,
   "metadata": {},
   "outputs": [
    {
     "data": {
      "text/plain": [
       "307     Gluten Free Cheese Tomato Thin Crust Pizza\n",
       "308         Gluten Free Pepperoni Thin Crust Pizza\n",
       "309            Gluten Free Veggie Thin Crust Pizza\n",
       "370                              Gluten Free Pizza\n",
       "422                      Gluten Free Veg Out Pizza\n",
       "709                              Gluten Free Pizza\n",
       "1299                             Gluten Free Pizza\n",
       "1707                     Gluten Free Veg Out Pizza\n",
       "1975                             Gluten Free Pizza\n",
       "2034                   Gluten Free Pizza Available\n",
       "2224                    Gluten Free Pizza Calandra\n",
       "2247                             Gluten Free Pizza\n",
       "2532                     Gluten Free Veg Out Pizza\n",
       "2722                             Gluten Free Pizza\n",
       "2730                     Gluten Free Veg Out Pizza\n",
       "3152                     Gluten Free Veg Out Pizza\n",
       "3417                     Gluten Free Veg Out Pizza\n",
       "Name: menus.name, dtype: object"
      ]
     },
     "execution_count": 14,
     "metadata": {},
     "output_type": "execute_result"
    }
   ],
   "source": [
    "# Pizzas Gluten Free\n",
    "pizzas[pizzas[\"menus.name\"].str.lower().str.contains(\"gluten free\")][\"menus.name\"]"
   ]
  },
  {
   "cell_type": "markdown",
   "metadata": {},
   "source": [
    "Vamos para as analises:"
   ]
  },
  {
   "cell_type": "code",
   "execution_count": 15,
   "metadata": {},
   "outputs": [
    {
     "data": {
      "text/html": [
       "<script>requirejs.config({paths: { 'plotly': ['https://cdn.plot.ly/plotly-latest.min']},});if(!window.Plotly) {{require(['plotly'],function(plotly) {window.Plotly=plotly;});}}</script>"
      ],
      "text/vnd.plotly.v1+html": [
       "<script>requirejs.config({paths: { 'plotly': ['https://cdn.plot.ly/plotly-latest.min']},});if(!window.Plotly) {{require(['plotly'],function(plotly) {window.Plotly=plotly;});}}</script>"
      ]
     },
     "metadata": {},
     "output_type": "display_data"
    },
    {
     "data": {
      "application/vnd.plotly.v1+json": {
       "data": [
        {
         "lat": [
          33.68678191,
          40.909079999999996,
          40.72185,
          37.76190689,
          42.837740000000004,
          41.05692963,
          42.93636,
          32.778484999999996,
          39.959928000000005,
          34.0443,
          37.40180208,
          43.695107,
          47.91148517,
          40.807389,
          42.131256,
          25.81385,
          33.874763,
          33.96148,
          33.35131,
          42.2990671,
          38.568717
         ],
         "locationmode": "USA-states",
         "lon": [
          -117.1903038,
          -74.09194000000001,
          -73.987714,
          -122.24505719999999,
          -73.738235,
          -83.59660295,
          -74.18918000000001,
          -79.927267,
          -75.22591700000001,
          -118.45478,
          -79.91159872,
          -116.35803999999999,
          -122.09662250000001,
          -82.975592,
          -70.95031321,
          -80.130264,
          -117.56698999999999,
          -117.55833999999999,
          -86.78414000000001,
          -71.39358,
          -92.161596
         ],
         "marker": {
          "autocolorscale": false,
          "line": {
           "color": "rgba(102, 102, 102)",
           "width": 1
          },
          "opacity": 0.6,
          "reversescale": true,
          "size": 8,
          "symbol": "circle"
         },
         "mode": "markers",
         "text": [
          "Menifee",
          "Saddle Brook",
          "New York",
          "Alameda",
          "Clifton Park",
          "Findlay",
          "Amsterdam",
          "Charleston",
          "Philadelphia",
          "Los Angeles",
          "Daleville",
          "Eagle",
          "Snohomish",
          "Bucyrus",
          "Abington",
          "Miami Beach",
          "Corona",
          "Corona",
          "Birmingham",
          "Framingham",
          "Jefferson City"
         ],
         "type": "scattergeo"
        }
       ],
       "layout": {
        "geo": {
         "countrycolor": "rgb(217, 217, 217)",
         "countrywidth": 0.5,
         "landcolor": "rgb(250, 250, 250)",
         "projection": {
          "type": "albers usa"
         },
         "scope": "usa",
         "showland": true,
         "subunitcolor": "rgb(217, 217, 217)",
         "subunitwidth": 0.5
        },
        "title": "Localizações das pizzas sabor Vegetarian"
       }
      },
      "text/html": [
       "<div id=\"a2776085-9f07-44ac-8cc6-f566eb2f12d8\" style=\"height: 525px; width: 100%;\" class=\"plotly-graph-div\"></div><script type=\"text/javascript\">require([\"plotly\"], function(Plotly) { window.PLOTLYENV=window.PLOTLYENV || {};window.PLOTLYENV.BASE_URL=\"https://plot.ly\";Plotly.newPlot(\"a2776085-9f07-44ac-8cc6-f566eb2f12d8\", [{\"type\": \"scattergeo\", \"lat\": [33.68678191, 40.909079999999996, 40.72185, 37.76190689, 42.837740000000004, 41.05692963, 42.93636, 32.778484999999996, 39.959928000000005, 34.0443, 37.40180208, 43.695107, 47.91148517, 40.807389, 42.131256, 25.81385, 33.874763, 33.96148, 33.35131, 42.2990671, 38.568717], \"text\": [\"Menifee\", \"Saddle Brook\", \"New York\", \"Alameda\", \"Clifton Park\", \"Findlay\", \"Amsterdam\", \"Charleston\", \"Philadelphia\", \"Los Angeles\", \"Daleville\", \"Eagle\", \"Snohomish\", \"Bucyrus\", \"Abington\", \"Miami Beach\", \"Corona\", \"Corona\", \"Birmingham\", \"Framingham\", \"Jefferson City\"], \"locationmode\": \"USA-states\", \"marker\": {\"reversescale\": true, \"symbol\": \"circle\", \"opacity\": 0.6, \"size\": 8, \"line\": {\"width\": 1, \"color\": \"rgba(102, 102, 102)\"}, \"autocolorscale\": false}, \"mode\": \"markers\", \"lon\": [-117.1903038, -74.09194000000001, -73.987714, -122.24505719999999, -73.738235, -83.59660295, -74.18918000000001, -79.927267, -75.22591700000001, -118.45478, -79.91159872, -116.35803999999999, -122.09662250000001, -82.975592, -70.95031321, -80.130264, -117.56698999999999, -117.55833999999999, -86.78414000000001, -71.39358, -92.161596]}], {\"geo\": {\"landcolor\": \"rgb(250, 250, 250)\", \"subunitwidth\": 0.5, \"subunitcolor\": \"rgb(217, 217, 217)\", \"scope\": \"usa\", \"projection\": {\"type\": \"albers usa\"}, \"showland\": true, \"countrycolor\": \"rgb(217, 217, 217)\", \"countrywidth\": 0.5}, \"title\": \"Localiza\\u00e7\\u00f5es das pizzas sabor Vegetarian\"}, {\"linkText\": \"Export to plot.ly\", \"showLink\": true})});</script>"
      ],
      "text/vnd.plotly.v1+html": [
       "<div id=\"a2776085-9f07-44ac-8cc6-f566eb2f12d8\" style=\"height: 525px; width: 100%;\" class=\"plotly-graph-div\"></div><script type=\"text/javascript\">require([\"plotly\"], function(Plotly) { window.PLOTLYENV=window.PLOTLYENV || {};window.PLOTLYENV.BASE_URL=\"https://plot.ly\";Plotly.newPlot(\"a2776085-9f07-44ac-8cc6-f566eb2f12d8\", [{\"type\": \"scattergeo\", \"lat\": [33.68678191, 40.909079999999996, 40.72185, 37.76190689, 42.837740000000004, 41.05692963, 42.93636, 32.778484999999996, 39.959928000000005, 34.0443, 37.40180208, 43.695107, 47.91148517, 40.807389, 42.131256, 25.81385, 33.874763, 33.96148, 33.35131, 42.2990671, 38.568717], \"text\": [\"Menifee\", \"Saddle Brook\", \"New York\", \"Alameda\", \"Clifton Park\", \"Findlay\", \"Amsterdam\", \"Charleston\", \"Philadelphia\", \"Los Angeles\", \"Daleville\", \"Eagle\", \"Snohomish\", \"Bucyrus\", \"Abington\", \"Miami Beach\", \"Corona\", \"Corona\", \"Birmingham\", \"Framingham\", \"Jefferson City\"], \"locationmode\": \"USA-states\", \"marker\": {\"reversescale\": true, \"symbol\": \"circle\", \"opacity\": 0.6, \"size\": 8, \"line\": {\"width\": 1, \"color\": \"rgba(102, 102, 102)\"}, \"autocolorscale\": false}, \"mode\": \"markers\", \"lon\": [-117.1903038, -74.09194000000001, -73.987714, -122.24505719999999, -73.738235, -83.59660295, -74.18918000000001, -79.927267, -75.22591700000001, -118.45478, -79.91159872, -116.35803999999999, -122.09662250000001, -82.975592, -70.95031321, -80.130264, -117.56698999999999, -117.55833999999999, -86.78414000000001, -71.39358, -92.161596]}], {\"geo\": {\"landcolor\": \"rgb(250, 250, 250)\", \"subunitwidth\": 0.5, \"subunitcolor\": \"rgb(217, 217, 217)\", \"scope\": \"usa\", \"projection\": {\"type\": \"albers usa\"}, \"showland\": true, \"countrycolor\": \"rgb(217, 217, 217)\", \"countrywidth\": 0.5}, \"title\": \"Localiza\\u00e7\\u00f5es das pizzas sabor Vegetarian\"}, {\"linkText\": \"Export to plot.ly\", \"showLink\": true})});</script>"
      ]
     },
     "metadata": {},
     "output_type": "display_data"
    }
   ],
   "source": [
    "# Vegetarian Pizza\n",
    "vege_df = pizzas[pizzas['menus.name']=='Vegetarian Pizza'] #Dataframe apenas para Vegetarian Pizza\n",
    "\n",
    "# Parametros do mapa\n",
    "data = [ dict(\n",
    "        type = 'scattergeo',\n",
    "        locationmode = 'USA-states',\n",
    "        lon = vege_df['longitude'],\n",
    "        lat = vege_df['latitude'],\n",
    "        text = vege_df['city'],\n",
    "        mode = 'markers',\n",
    "        marker = dict( \n",
    "            size = 8, \n",
    "            opacity = 0.6,\n",
    "            reversescale = True,\n",
    "            autocolorscale = False,\n",
    "            symbol = 'circle',\n",
    "            line = dict(\n",
    "                width=1,\n",
    "                color='rgba(102, 102, 102)'\n",
    "            )))]\n",
    "\n",
    "# Layout\n",
    "layout = dict(\n",
    "        title = 'Localizações das pizzas sabor Vegetarian',\n",
    "        geo = dict(\n",
    "            scope='usa',\n",
    "            projection=dict( type='albers usa'),\n",
    "            showland = True,\n",
    "            landcolor = \"rgb(250, 250, 250)\",\n",
    "            subunitcolor = \"rgb(217, 217, 217)\",\n",
    "            countrycolor = \"rgb(217, 217, 217)\",\n",
    "            countrywidth = 0.5,\n",
    "            subunitwidth = 0.5))\n",
    "\n",
    "py.init_notebook_mode(connected=True)\n",
    "fig = dict( data=data, layout=layout )\n",
    "py.iplot(fig, filename='vegetarianPizza.html')"
   ]
  },
  {
   "cell_type": "markdown",
   "metadata": {},
   "source": [
    "Parece que a região central dos EUA não gosta muito de pizza Vegetariana haha\n",
    "Existem algumas opções na costa leste do pais, como por exemplo New York, Massachusetts e Florida e algumas outras na costa oeste, como California e Washington."
   ]
  },
  {
   "cell_type": "code",
   "execution_count": 16,
   "metadata": {},
   "outputs": [
    {
     "data": {
      "text/html": [
       "<script>requirejs.config({paths: { 'plotly': ['https://cdn.plot.ly/plotly-latest.min']},});if(!window.Plotly) {{require(['plotly'],function(plotly) {window.Plotly=plotly;});}}</script>"
      ],
      "text/vnd.plotly.v1+html": [
       "<script>requirejs.config({paths: { 'plotly': ['https://cdn.plot.ly/plotly-latest.min']},});if(!window.Plotly) {{require(['plotly'],function(plotly) {window.Plotly=plotly;});}}</script>"
      ]
     },
     "metadata": {},
     "output_type": "display_data"
    },
    {
     "data": {
      "application/vnd.plotly.v1+json": {
       "data": [
        {
         "lat": [
          34.1017424,
          38.562374,
          40.41754,
          33.32076,
          36.15205156,
          40.771072,
          38.287037,
          39.057884,
          35.12226018,
          33.99702659,
          29.171678999999997,
          29.602133000000002,
          38.62668,
          36.101983000000004,
          42.11106379,
          40.71758,
          34.519794,
          33.648342,
          42.138386,
          41.86777253,
          45.491788,
          43.18093,
          29.02760214,
          38.00764,
          32.77083563,
          40.74551999,
          32.46283,
          42.817609000000004,
          27.15995607,
          45.03519,
          40.624927,
          39.91217216,
          41.767953999999996,
          34.08911799
         ],
         "locationmode": "USA-states",
         "lon": [
          -118.30197290000001,
          -121.328061,
          -86.81142,
          -111.80923999999999,
          -95.98882702,
          -74.02265,
          -85.57828,
          -77.12069,
          -80.65446284,
          -84.0932849,
          -82.13436,
          -98.443596,
          -90.192488,
          -79.820644,
          -76.0501152,
          -74.35624,
          -97.96685,
          -117.686806,
          -83.24838000000001,
          -72.465549,
          -122.809306,
          -77.63273000000001,
          -81.31568232,
          -122.5459,
          -92.39532123,
          -89.63286271,
          -91.75999,
          -83.70711386,
          -80.24148524,
          -92.80751,
          -74.079217,
          -104.988699,
          -72.620425,
          -117.67192759999999
         ],
         "marker": {
          "autocolorscale": false,
          "line": {
           "color": "rgba(102, 102, 102)",
           "width": 1
          },
          "opacity": 0.6,
          "reversescale": true,
          "size": 8,
          "symbol": "circle"
         },
         "mode": "markers",
         "text": [
          "Los Angeles",
          "Sacramento",
          "Lafayette",
          "Chandler",
          "Tulsa",
          "Weehawken",
          "Louisville",
          "Rockville",
          "Matthews",
          "Duluth",
          "Ocala",
          "San Antonio",
          "Saint Louis",
          "Greensboro",
          "Endicott",
          "Summit",
          "Duncan",
          "Lake Forest",
          "Trenton",
          "Vernon Rockville",
          "Beaverton",
          "Rochester",
          "Deland",
          "San Rafael",
          "Farmerville",
          "Peoria",
          "Rayville",
          "Fenton",
          "Stuart",
          "Stillwater",
          "Staten Island",
          "Denver",
          "East Hartford",
          "Upland"
         ],
         "type": "scattergeo"
        }
       ],
       "layout": {
        "geo": {
         "countrycolor": "rgb(217, 217, 217)",
         "countrywidth": 0.5,
         "landcolor": "rgb(250, 250, 250)",
         "projection": {
          "type": "albers usa"
         },
         "scope": "usa",
         "showland": true,
         "subunitcolor": "rgb(217, 217, 217)",
         "subunitwidth": 0.5
        },
        "title": "Localizações das pizzas sabor Veggie"
       }
      },
      "text/html": [
       "<div id=\"7ece6715-4f1a-44e7-80fb-340aece86df6\" style=\"height: 525px; width: 100%;\" class=\"plotly-graph-div\"></div><script type=\"text/javascript\">require([\"plotly\"], function(Plotly) { window.PLOTLYENV=window.PLOTLYENV || {};window.PLOTLYENV.BASE_URL=\"https://plot.ly\";Plotly.newPlot(\"7ece6715-4f1a-44e7-80fb-340aece86df6\", [{\"type\": \"scattergeo\", \"lat\": [34.1017424, 38.562374, 40.41754, 33.32076, 36.15205156, 40.771072, 38.287037, 39.057884, 35.12226018, 33.99702659, 29.171678999999997, 29.602133000000002, 38.62668, 36.101983000000004, 42.11106379, 40.71758, 34.519794, 33.648342, 42.138386, 41.86777253, 45.491788, 43.18093, 29.02760214, 38.00764, 32.77083563, 40.74551999, 32.46283, 42.817609000000004, 27.15995607, 45.03519, 40.624927, 39.91217216, 41.767953999999996, 34.08911799], \"text\": [\"Los Angeles\", \"Sacramento\", \"Lafayette\", \"Chandler\", \"Tulsa\", \"Weehawken\", \"Louisville\", \"Rockville\", \"Matthews\", \"Duluth\", \"Ocala\", \"San Antonio\", \"Saint Louis\", \"Greensboro\", \"Endicott\", \"Summit\", \"Duncan\", \"Lake Forest\", \"Trenton\", \"Vernon Rockville\", \"Beaverton\", \"Rochester\", \"Deland\", \"San Rafael\", \"Farmerville\", \"Peoria\", \"Rayville\", \"Fenton\", \"Stuart\", \"Stillwater\", \"Staten Island\", \"Denver\", \"East Hartford\", \"Upland\"], \"locationmode\": \"USA-states\", \"marker\": {\"reversescale\": true, \"symbol\": \"circle\", \"opacity\": 0.6, \"size\": 8, \"line\": {\"width\": 1, \"color\": \"rgba(102, 102, 102)\"}, \"autocolorscale\": false}, \"mode\": \"markers\", \"lon\": [-118.30197290000001, -121.328061, -86.81142, -111.80923999999999, -95.98882702, -74.02265, -85.57828, -77.12069, -80.65446284, -84.0932849, -82.13436, -98.443596, -90.192488, -79.820644, -76.0501152, -74.35624, -97.96685, -117.686806, -83.24838000000001, -72.465549, -122.809306, -77.63273000000001, -81.31568232, -122.5459, -92.39532123, -89.63286271, -91.75999, -83.70711386, -80.24148524, -92.80751, -74.079217, -104.988699, -72.620425, -117.67192759999999]}], {\"geo\": {\"landcolor\": \"rgb(250, 250, 250)\", \"subunitwidth\": 0.5, \"subunitcolor\": \"rgb(217, 217, 217)\", \"scope\": \"usa\", \"projection\": {\"type\": \"albers usa\"}, \"showland\": true, \"countrycolor\": \"rgb(217, 217, 217)\", \"countrywidth\": 0.5}, \"title\": \"Localiza\\u00e7\\u00f5es das pizzas sabor Veggie\"}, {\"linkText\": \"Export to plot.ly\", \"showLink\": true})});</script>"
      ],
      "text/vnd.plotly.v1+html": [
       "<div id=\"7ece6715-4f1a-44e7-80fb-340aece86df6\" style=\"height: 525px; width: 100%;\" class=\"plotly-graph-div\"></div><script type=\"text/javascript\">require([\"plotly\"], function(Plotly) { window.PLOTLYENV=window.PLOTLYENV || {};window.PLOTLYENV.BASE_URL=\"https://plot.ly\";Plotly.newPlot(\"7ece6715-4f1a-44e7-80fb-340aece86df6\", [{\"type\": \"scattergeo\", \"lat\": [34.1017424, 38.562374, 40.41754, 33.32076, 36.15205156, 40.771072, 38.287037, 39.057884, 35.12226018, 33.99702659, 29.171678999999997, 29.602133000000002, 38.62668, 36.101983000000004, 42.11106379, 40.71758, 34.519794, 33.648342, 42.138386, 41.86777253, 45.491788, 43.18093, 29.02760214, 38.00764, 32.77083563, 40.74551999, 32.46283, 42.817609000000004, 27.15995607, 45.03519, 40.624927, 39.91217216, 41.767953999999996, 34.08911799], \"text\": [\"Los Angeles\", \"Sacramento\", \"Lafayette\", \"Chandler\", \"Tulsa\", \"Weehawken\", \"Louisville\", \"Rockville\", \"Matthews\", \"Duluth\", \"Ocala\", \"San Antonio\", \"Saint Louis\", \"Greensboro\", \"Endicott\", \"Summit\", \"Duncan\", \"Lake Forest\", \"Trenton\", \"Vernon Rockville\", \"Beaverton\", \"Rochester\", \"Deland\", \"San Rafael\", \"Farmerville\", \"Peoria\", \"Rayville\", \"Fenton\", \"Stuart\", \"Stillwater\", \"Staten Island\", \"Denver\", \"East Hartford\", \"Upland\"], \"locationmode\": \"USA-states\", \"marker\": {\"reversescale\": true, \"symbol\": \"circle\", \"opacity\": 0.6, \"size\": 8, \"line\": {\"width\": 1, \"color\": \"rgba(102, 102, 102)\"}, \"autocolorscale\": false}, \"mode\": \"markers\", \"lon\": [-118.30197290000001, -121.328061, -86.81142, -111.80923999999999, -95.98882702, -74.02265, -85.57828, -77.12069, -80.65446284, -84.0932849, -82.13436, -98.443596, -90.192488, -79.820644, -76.0501152, -74.35624, -97.96685, -117.686806, -83.24838000000001, -72.465549, -122.809306, -77.63273000000001, -81.31568232, -122.5459, -92.39532123, -89.63286271, -91.75999, -83.70711386, -80.24148524, -92.80751, -74.079217, -104.988699, -72.620425, -117.67192759999999]}], {\"geo\": {\"landcolor\": \"rgb(250, 250, 250)\", \"subunitwidth\": 0.5, \"subunitcolor\": \"rgb(217, 217, 217)\", \"scope\": \"usa\", \"projection\": {\"type\": \"albers usa\"}, \"showland\": true, \"countrycolor\": \"rgb(217, 217, 217)\", \"countrywidth\": 0.5}, \"title\": \"Localiza\\u00e7\\u00f5es das pizzas sabor Veggie\"}, {\"linkText\": \"Export to plot.ly\", \"showLink\": true})});</script>"
      ]
     },
     "metadata": {},
     "output_type": "display_data"
    }
   ],
   "source": [
    "# Veggie Pizza\n",
    "vegg_df = pizzas[pizzas['menus.name']=='Veggie Pizza'] #Dataframe apenas para Veggie Pizza\n",
    "\n",
    "# Parametros do mapa\n",
    "data = [ dict(\n",
    "        type = 'scattergeo',\n",
    "        locationmode = 'USA-states',\n",
    "        lon = vegg_df['longitude'],\n",
    "        lat = vegg_df['latitude'],\n",
    "        text = vegg_df['city'],\n",
    "        mode = 'markers',\n",
    "        marker = dict( \n",
    "            size = 8, \n",
    "            opacity = 0.6,\n",
    "            reversescale = True,\n",
    "            autocolorscale = False,\n",
    "            symbol = 'circle',\n",
    "            line = dict(\n",
    "                width=1,\n",
    "                color='rgba(102, 102, 102)'\n",
    "            )))]\n",
    "\n",
    "# Layout\n",
    "layout = dict(\n",
    "        title = 'Localizações das pizzas sabor Veggie',\n",
    "        geo = dict(\n",
    "            scope='usa',\n",
    "            projection=dict( type='albers usa'),\n",
    "            showland = True,\n",
    "            landcolor = \"rgb(250, 250, 250)\",\n",
    "            subunitcolor = \"rgb(217, 217, 217)\",\n",
    "            countrycolor = \"rgb(217, 217, 217)\",\n",
    "            countrywidth = 0.5,\n",
    "            subunitwidth = 0.5))\n",
    "\n",
    "py.init_notebook_mode(connected=True)\n",
    "fig = dict( data=data, layout=layout )\n",
    "py.iplot(fig, filename='vegetarianPizza.html')"
   ]
  },
  {
   "cell_type": "markdown",
   "metadata": {},
   "source": [
    "Já a pizza Vegana é bem mais distribuida quando comparado a vegetariana.\n",
    "\n",
    "Existem diversas opções na costa leste, algumas poucas no centro e sul, como Colorado, Taxas e Louisiana."
   ]
  },
  {
   "cell_type": "markdown",
   "metadata": {},
   "source": [
    "### Cidades"
   ]
  },
  {
   "cell_type": "markdown",
   "metadata": {},
   "source": [
    "Vamos agora analisar as cidade"
   ]
  },
  {
   "cell_type": "code",
   "execution_count": 17,
   "metadata": {},
   "outputs": [
    {
     "data": {
      "image/png": "[encoded data removed]",
      "text/plain": [
       "<matplotlib.figure.Figure at 0xfaef122fd0>"
      ]
     },
     "metadata": {},
     "output_type": "display_data"
    }
   ],
   "source": [
    "# Cidades com mais pizzas\n",
    "pizzas_city = pizzas['city'].value_counts()\n",
    "\n",
    "plt.figure(num=None, figsize=(8, 6), dpi=80, facecolor='w', edgecolor='k')\n",
    "pizzas_city[:10].plot.bar()\n",
    "plt.title('Cidades com mais sabores de pizzas')\n",
    "plt.ylabel('Quantidade')      \n",
    "plt.show();"
   ]
  },
  {
   "cell_type": "markdown",
   "metadata": {
    "collapsed": true
   },
   "source": [
    "Parece que Philadelphia é a cidade com mais sabores de pizzas, vamos ver quais elas são:"
   ]
  },
  {
   "cell_type": "code",
   "execution_count": 18,
   "metadata": {},
   "outputs": [
    {
     "name": "stdout",
     "output_type": "stream",
     "text": [
      "Philadelphia contem 61 opções de pizzas!\n"
     ]
    }
   ],
   "source": [
    "qtd_pizzasPhi = len(pd.Series.unique(pizzas[pizzas[\"city\"].str.lower().str.contains(\"philadelphia\")][\"menus.name\"]))\n",
    "\n",
    "print('Philadelphia contem {} opções de pizzas!'.format(qtd_pizzasPhi))"
   ]
  },
  {
   "cell_type": "code",
   "execution_count": 19,
   "metadata": {},
   "outputs": [
    {
     "data": {
      "image/png": "[encoded data removed]",
      "text/plain": [
       "<matplotlib.figure.Figure at 0xfaef156978>"
      ]
     },
     "metadata": {},
     "output_type": "display_data"
    }
   ],
   "source": [
    "# Pizzas mais oferecidas na Philadelphia\n",
    "pizzasPhi = pizzas[pizzas[\"city\"].str.lower().str.contains(\"philadelphia\")][\"menus.name\"].value_counts()\n",
    "\n",
    "plt.figure(num=None, figsize=(8, 6), dpi=80, facecolor='w', edgecolor='k')\n",
    "pizzasPhi[:10].plot.bar()\n",
    "plt.title('Sabores com mais opções na Philadelphia')\n",
    "plt.ylabel('Quantidade')      \n",
    "plt.show();"
   ]
  },
  {
   "cell_type": "markdown",
   "metadata": {},
   "source": [
    "O povo da Philadelphia gosta muito de pizza de carne haha\n",
    "\n",
    "Vamos analisar por Estado/Província"
   ]
  },
  {
   "cell_type": "markdown",
   "metadata": {},
   "source": [
    "### Estados/Províncias"
   ]
  },
  {
   "cell_type": "code",
   "execution_count": 20,
   "metadata": {},
   "outputs": [
    {
     "data": {
      "image/png": "[encoded data removed]",
      "text/plain": [
       "<matplotlib.figure.Figure at 0xfaef515390>"
      ]
     },
     "metadata": {},
     "output_type": "display_data"
    }
   ],
   "source": [
    "# Estados com mais opções de pizzas\n",
    "pizzas_prov = pizzas['province'].value_counts()\n",
    "\n",
    "plt.figure(num=None, figsize=(8, 6), dpi=80, facecolor='w', edgecolor='k')\n",
    "pizzas_prov[:30].plot.bar()\n",
    "plt.title('Estados com mais opções de pizzas')\n",
    "plt.ylabel('Quantidade')      \n",
    "plt.show();"
   ]
  },
  {
   "cell_type": "markdown",
   "metadata": {},
   "source": [
    "Hm tem algo estranho ali...\n",
    "\n",
    "Tem alguns nomes de cidades onde deveriam ter nomes de estados...\n",
    "\n",
    "vamos fazer algumas melhorias"
   ]
  },
  {
   "cell_type": "code",
   "execution_count": 21,
   "metadata": {},
   "outputs": [
    {
     "data": {
      "text/plain": [
       "2                   Brentwood\n",
       "3                   Brentwood\n",
       "4                   Brentwood\n",
       "5                   Brentwood\n",
       "6                   Brentwood\n",
       "7                   Los Feliz\n",
       "8                   Los Feliz\n",
       "9                   Los Feliz\n",
       "10                  Los Feliz\n",
       "11                  Los Feliz\n",
       "12                  Los Feliz\n",
       "21             Ontario Street\n",
       "22             Ontario Street\n",
       "23             Ontario Street\n",
       "24             Ontario Street\n",
       "62                Weirs Beach\n",
       "81              Lawrenceville\n",
       "82              Lawrenceville\n",
       "83              Lawrenceville\n",
       "84              Lawrenceville\n",
       "85              Lawrenceville\n",
       "86              Lawrenceville\n",
       "87              Lawrenceville\n",
       "88              Lawrenceville\n",
       "89              Lawrenceville\n",
       "90              Lawrenceville\n",
       "91              Lawrenceville\n",
       "92              Lawrenceville\n",
       "93              Lawrenceville\n",
       "94              Lawrenceville\n",
       "                ...          \n",
       "3446               Fair Haven\n",
       "3447               Fair Haven\n",
       "3448               Fair Haven\n",
       "3449               Fair Haven\n",
       "3450               Fair Haven\n",
       "3451               Fair Haven\n",
       "3452               Fair Haven\n",
       "3453          Seabrook Island\n",
       "3454          Seabrook Island\n",
       "3455               Valleyview\n",
       "3456               Valleyview\n",
       "3469                     Wilm\n",
       "3470                     Wilm\n",
       "3471    Mount Laurel Township\n",
       "3475            Pembroke Pnes\n",
       "3488                Manhattan\n",
       "3489                Manhattan\n",
       "3490                Manhattan\n",
       "3491                Manhattan\n",
       "3493                Manhattan\n",
       "3499                   Palmer\n",
       "3500              Honey Creek\n",
       "3501              Honey Creek\n",
       "3502              Honey Creek\n",
       "3503              Honey Creek\n",
       "3504              Honey Creek\n",
       "3505              Honey Creek\n",
       "3506              Honey Creek\n",
       "3507               Davidsburg\n",
       "3508               Davidsburg\n",
       "Name: province, Length: 1076, dtype: object"
      ]
     },
     "execution_count": 21,
     "metadata": {},
     "output_type": "execute_result"
    }
   ],
   "source": [
    "# Verificando os estados não-sigla\n",
    "pizzas[pizzas['province'].str.len() > 2]['province']"
   ]
  },
  {
   "cell_type": "code",
   "execution_count": 40,
   "metadata": {},
   "outputs": [],
   "source": [
    "# Função para alterar os nomes dos Estados\n",
    "def altera_estado():\n",
    "    for c in pizzas['province']:\n",
    "        if c == 'Brentwood':\n",
    "            pizzas['province'].replace('Brentwood', 'CA', inplace=True)\n",
    "        if c == 'Los Feliz':\n",
    "            pizzas['province'].replace('Los Feliz', 'LA', inplace=True)\n",
    "        if c == 'Ontario Street':\n",
    "            pizzas['province'].replace('Ontario Street', 'OR', inplace=True)\n",
    "        if c == 'Manhattan':\n",
    "            pizzas['province'].replace('Manhattan', 'NY', inplace=True)\n",
    "        if c == 'Honey Creek':\n",
    "            pizzas['province'].replace('Honey Creek', 'IN', inplace=True)\n",
    "        if c == 'Davidsburg':\n",
    "            pizzas['province'].replace('Davidsburg', 'PA', inplace=True)\n",
    "        if c == 'Lawrenceville':\n",
    "            pizzas['province'].replace('Lawrenceville', 'NJ', inplace=True)\n",
    "        if c == 'Weirs Beach':\n",
    "            pizzas['province'].replace('Weirs Beach', 'NH', inplace=True)\n",
    "        if c == 'Dania Beach':\n",
    "            pizzas['province'].replace('Dania Beach', 'FL', inplace=True)\n",
    "        if c == 'Fair Haven':\n",
    "            pizzas['province'].replace('Fair Haven', 'NJ', inplace=True)\n",
    "        if c == 'Seabrook Island':\n",
    "            pizzas['province'].replace('Seabrook Island', 'SC', inplace=True)\n",
    "        if c == 'Valleyview':\n",
    "            pizzas['province'].replace('Valleyview', 'OH', inplace=True)\n",
    "        if c == 'Pembroke Pnes':\n",
    "            pizzas['province'].replace('Pembroke Pnes', 'FL', inplace=True)\n",
    "        if c == 'Wilm':\n",
    "            pizzas['province'].replace('Wilm', 'NC', inplace=True)\n",
    "        if c == 'Hassan':\n",
    "            pizzas['province'].replace('Hassan', 'MN', inplace=True)\n",
    "        if c == 'Crestview Heights':\n",
    "            pizzas['province'].replace('Crestview Heights', 'OR', inplace=True)\n",
    "        if c == 'Grove':\n",
    "            pizzas['province'].replace('Grove', 'NJ', inplace=True)\n",
    "        if c == 'Village Of Wellington':\n",
    "            pizzas['province'].replace('Village Of Wellington', 'FL', inplace=True)\n",
    "        if c == 'Oldtown':\n",
    "            pizzas['province'].replace('Oldtown', 'ID', inplace=True)\n",
    "        if c == 'Elmhurst':\n",
    "            pizzas['province'].replace('Elmhurst', 'IL', inplace=True)\n",
    "        if c == 'Bloomfld Hls':\n",
    "            pizzas['province'].replace('Bloomfld Hls', 'MI', inplace=True)\n",
    "        if c == 'Joppatowne':\n",
    "            pizzas['province'].replace('Joppatowne', 'MD', inplace=True)\n",
    "        if c == 'Baxter Estates':\n",
    "            pizzas['province'].replace('Baxter Estates', 'NY', inplace=True)\n",
    "        if c == 'Co Spgs':\n",
    "            pizzas['province'].replace('Co Spgs', 'CO', inplace=True)\n",
    "        if c == 'Queens':\n",
    "            pizzas['province'].replace('Queens', 'NY', inplace=True)\n",
    "        if c == 'Midtown':\n",
    "            pizzas['province'].replace('Midtown', 'NY', inplace=True)\n",
    "        if c == 'Townley':\n",
    "            pizzas['province'].replace('Townley', 'AL', inplace=True)\n",
    "        if c == 'Rivervale':\n",
    "            pizzas['province'].replace('Rivervale', 'NJ', inplace=True)\n",
    "        if c == 'Rivervale':\n",
    "            pizzas['province'].replace('Rivervale', 'NJ', inplace=True)\n",
    "        if c == 'Pitt':\n",
    "            pizzas['province'].replace('Pitt', 'PA', inplace=True)\n",
    "        if c == 'Nyc':\n",
    "            pizzas['province'].replace('Nyc', 'NY', inplace=True)\n",
    "        if c == 'Weymouth Nas':\n",
    "            pizzas['province'].replace('Weymouth Nas', 'MA', inplace=True)\n",
    "        if c == 'East Htfd':\n",
    "            pizzas['province'].replace('East Htfd', 'CT', inplace=True)\n",
    "        if c == 'Rockville':\n",
    "            pizzas['province'].replace('Rockville', 'MD', inplace=True)\n",
    "        if c == 'No Bethesda':\n",
    "            pizzas['province'].replace('No Bethesda', 'MD', inplace=True)\n",
    "        if c == 'Elnora':\n",
    "            pizzas['province'].replace('Elnora', 'IN', inplace=True)\n",
    "        if c == 'Arco-plaza':\n",
    "            pizzas['province'].replace('Arco-plaza', 'LA', inplace=True)\n",
    "        if c == 'Brownhelm':\n",
    "            pizzas['province'].replace('Brownhelm', 'OH', inplace=True)\n",
    "        if c == 'Bellefonte':\n",
    "            pizzas['province'].replace('Bellefonte', 'PA', inplace=True)\n",
    "        if c == 'Bloomington Heights':\n",
    "            pizzas['province'].replace('Bloomington Heights', 'IL', inplace=True)\n",
    "        if c == 'West Deerfield':\n",
    "            pizzas['province'].replace('West Deerfield', 'FL', inplace=True)\n",
    "        if c == 'West Medford':\n",
    "            pizzas['province'].replace('West Medford', 'MA', inplace=True)\n",
    "        if c == 'West Mifflin':\n",
    "            pizzas['province'].replace('West Mifflin', 'PA', inplace=True)\n",
    "        if c == 'West Pittsburg':\n",
    "            pizzas['province'].replace('West Pittsburg', 'PA', inplace=True)\n",
    "        if c == 'West Vail':\n",
    "            pizzas['province'].replace('West Vail', 'CO', inplace=True)\n",
    "        if c == 'Wheatfield':\n",
    "            pizzas['province'].replace('Wheatfield', 'NY', inplace=True)\n",
    "        if c == 'Williams Crk':\n",
    "            pizzas['province'].replace('Williams Crk', 'IN', inplace=True)\n",
    "        if c == 'Willoughby Hills':\n",
    "            pizzas['province'].replace('Willoughby Hills', 'OH', inplace=True)\n",
    "        if c == 'Woodbury':\n",
    "            pizzas['province'].replace('Woodbury', 'MN', inplace=True)\n",
    "        if c == 'Burlngtn City':\n",
    "            pizzas['province'].replace('Burlngtn City', 'VT', inplace=True)\n",
    "        if c == 'Bunker Hill Village':\n",
    "            pizzas['province'].replace('Bunker Hill Village', 'TX', inplace=True)\n",
    "        if c == 'Brownstown Twp':\n",
    "            pizzas['province'].replace('Brownstown Twp', 'MI', inplace=True)\n",
    "        if c == 'Brownsboro Farm':\n",
    "            pizzas['province'].replace('Brownsboro Farm', 'KY', inplace=True)\n",
    "        if c == 'Briarcliff Mnr':\n",
    "            pizzas['province'].replace('Briarcliff Mnr', 'NY', inplace=True)\n",
    "        if c == 'Brandtsville':\n",
    "            pizzas['province'].replace('Brandtsville', 'PA', inplace=True)\n",
    "        if c == 'Bouquet Canyon':\n",
    "            pizzas['province'].replace('Bouquet Canyon', 'CA', inplace=True)\n",
    "        if c == 'Bonney Lk':\n",
    "            pizzas['province'].replace('Bonney Lk', 'WA', inplace=True)\n",
    "        if c == 'Blue Anchor':\n",
    "            pizzas['province'].replace('Blue Anchor', 'NJ', inplace=True)\n",
    "        if c == 'Bloomington Hills':\n",
    "            pizzas['province'].replace('Bloomington Hills', 'UT', inplace=True)\n",
    "        if c == 'Clarkson Valley':\n",
    "            pizzas['province'].replace('Clarkson Valley', 'MO', inplace=True)\n",
    "        if c == 'Colorado Spgs':\n",
    "            pizzas['province'].replace('Colorado Spgs', 'CO', inplace=True)\n",
    "        if c == 'Country Life Acres':\n",
    "            pizzas['province'].replace('Country Life Acres', 'MO', inplace=True)\n",
    "        if c == 'N Egremont':\n",
    "            pizzas['province'].replace('N Egremont', 'MA', inplace=True)\n",
    "        if c == 'North Glenn':\n",
    "            pizzas['province'].replace('North Glenn', 'CO', inplace=True)\n",
    "        if c == 'Friendsville':\n",
    "            pizzas['province'].replace('Friendsville', 'IL', inplace=True)\n",
    "        if c == 'Groesbeck':\n",
    "            pizzas['province'].replace('Groesbeck', 'OH', inplace=True)\n",
    "        if c == 'City Of Spokane Valley':\n",
    "            pizzas['province'].replace('City Of Spokane Valley', 'WA', inplace=True)\n",
    "        if c == 'Oella':\n",
    "            pizzas['province'].replace('Oella', 'MD', inplace=True)\n",
    "        if c == 'No Providence':\n",
    "            pizzas['province'].replace('No Providence', 'Providence', inplace=True)   \n",
    "        if c == 'Murdock':\n",
    "            pizzas['province'].replace('Murdock', 'MN', inplace=True)   \n",
    "        if c == 'Quincy Center':\n",
    "            pizzas['province'].replace('Quincy Center', 'MA', inplace=True)   \n",
    "        if c == 'Marble Cliff':\n",
    "            pizzas['province'].replace('Marble Cliff', 'OH', inplace=True)   \n",
    "        if c == 'New York City':\n",
    "            pizzas['province'].replace('New York City', 'NY', inplace=True)   \n",
    "        if c == 'S Connelsvl':\n",
    "            pizzas['province'].replace('S Connelsvl', 'PA', inplace=True)   \n",
    "        if c == 'Juanita':\n",
    "            pizzas['province'].replace('Juanita', 'WA', inplace=True)   \n",
    "        if c == 'Forest View':\n",
    "            pizzas['province'].replace('Forest View', 'IL', inplace=True)   \n",
    "        if c == 'Kingsgate':\n",
    "            pizzas['province'].replace('Kingsgate', 'WA', inplace=True)   \n",
    "        if c == 'Mount Laurel Township':\n",
    "            pizzas['province'].replace('Mount Laurel Township', 'NJ', inplace=True)   \n",
    "        if c == 'St Albans':\n",
    "            pizzas['province'].replace('St Albans', 'VT', inplace=True)   \n",
    "        if c == 'Queensgate':\n",
    "            pizzas['province'].replace('Queensgate', 'OH', inplace=True)   \n",
    "        if c == 'Raugust':\n",
    "            pizzas['province'].replace('Raugust', 'WA', inplace=True)   \n",
    "        if c == 'Fairmont':\n",
    "            pizzas['province'].replace('Fairmont', 'WV', inplace=True)   \n",
    "        if c == 'Providence':\n",
    "            pizzas['province'].replace('Providence', 'RI', inplace=True)   \n",
    "        if c == 'Matthewstown':\n",
    "            pizzas['province'].replace('Matthewstown', 'NC', inplace=True)   \n",
    "        if c == 'Deephaven':\n",
    "            pizzas['province'].replace('Deephaven', 'MN', inplace=True)   \n",
    "        if c == 'Macomb Twp':\n",
    "            pizzas['province'].replace('Macomb Twp', 'IL', inplace=True)   \n",
    "        if c == 'Murfreesbr':\n",
    "            pizzas['province'].replace('Murfreesbr', 'TN', inplace=True)   \n",
    "        if c == 'Fort Dearborn':\n",
    "            pizzas['province'].replace('Fort Dearborn', 'IL', inplace=True)   \n",
    "        if c == 'Saint Davids':\n",
    "            pizzas['province'].replace('Saint Davids', 'PA', inplace=True)   \n",
    "        if c == 'Wesley Chapel':\n",
    "            pizzas['province'].replace('Wesley Chapel', 'FL', inplace=True)   \n",
    "        if c == 'West Glenville':\n",
    "            pizzas['province'].replace('West Glenville', 'NY', inplace=True)   \n",
    "        if c == 'Margate':\n",
    "            pizzas['province'].replace('Margate', 'FL', inplace=True)   \n",
    "        if c == 'Miami':\n",
    "            pizzas['province'].replace('Miami', 'FL', inplace=True)   \n",
    "        if c == 'Hollywood Park':\n",
    "            pizzas['province'].replace('Hollywood Park', 'TX', inplace=True)   \n",
    "        if c == 'East Haven':\n",
    "            pizzas['province'].replace('East Haven', 'CT', inplace=True)   \n",
    "        if c == 'Carpolis':\n",
    "            pizzas['province'].replace('Carpolis', 'LA', inplace=True)   \n",
    "        if c == 'Cherry Hill Township':\n",
    "            pizzas['province'].replace('Cherry Hill Township', 'NJ', inplace=True)           \n",
    "        if c == 'Guilford Courthouse National':\n",
    "            pizzas['province'].replace('Guilford Courthouse National', 'NC', inplace=True)           "
   ]
  },
  {
   "cell_type": "code",
   "execution_count": 41,
   "metadata": {},
   "outputs": [],
   "source": [
    "altera_estado()"
   ]
  },
  {
   "cell_type": "markdown",
   "metadata": {},
   "source": [
    "Vamos ver se com essas pequena melhoria nos dados altera o nosso gráfico"
   ]
  },
  {
   "cell_type": "code",
   "execution_count": 42,
   "metadata": {},
   "outputs": [
    {
     "data": {
      "image/png": "[encoded data removed]",
      "text/plain": [
       "<matplotlib.figure.Figure at 0xfaef5d3da0>"
      ]
     },
     "metadata": {},
     "output_type": "display_data"
    }
   ],
   "source": [
    "pizzas_prov = pizzas['province'].value_counts()\n",
    "\n",
    "plt.figure(num=None, figsize=(8, 6), dpi=80, facecolor='w', edgecolor='k')\n",
    "pizzas_prov[:30].plot.bar()\n",
    "plt.title('Estados com mais opções de pizzas')\n",
    "plt.ylabel('Quantidade')      \n",
    "plt.show();"
   ]
  },
  {
   "cell_type": "markdown",
   "metadata": {},
   "source": [
    "Tivemos algumas alteração interessantes no grafico.\n",
    "\n",
    "NY, que antes ocupada a 6° posição, subiu para 2°, já NJ caiu da 2° para 3°."
   ]
  },
  {
   "cell_type": "markdown",
   "metadata": {},
   "source": [
    "### Preços"
   ]
  },
  {
   "cell_type": "markdown",
   "metadata": {},
   "source": [
    "Vamos analisar os preços por Estado\n",
    "\n",
    "Antes, vamos dar uma olhada nos dados:"
   ]
  },
  {
   "cell_type": "code",
   "execution_count": 25,
   "metadata": {},
   "outputs": [
    {
     "name": "stdout",
     "output_type": "stream",
     "text": [
      "Qtd zeros no 'priceRangeMin':  730\n",
      "Qtd NA no 'priceRangeMin':  0\n",
      "Qtd zeros no 'priceRangeMax':  0\n",
      "Qtd NA no 'priceRangeMax':  0\n"
     ]
    }
   ],
   "source": [
    "# Analize inicial de valores 0 ou NA\n",
    "\n",
    "print(\"Qtd zeros no 'priceRangeMin': \", len(pizzas[pizzas['priceRangeMin'] == 0]['priceRangeMin']))\n",
    "print(\"Qtd NA no 'priceRangeMin': \", pizzas['priceRangeMin'].isnull().sum()) # Já haviamos feito o incremento previo com a média\n",
    "\n",
    "print(\"Qtd zeros no 'priceRangeMax': \", len(pizzas[pizzas['priceRangeMax'] == 0]['priceRangeMin']))\n",
    "print(\"Qtd NA no 'priceRangeMax': \", pizzas['priceRangeMax'].isnull().sum()) # Já haviamos feito o incremento previo com a média"
   ]
  },
  {
   "cell_type": "markdown",
   "metadata": {},
   "source": [
    "Vamos corrigir com a média os valores com 0 de priceRangeMin"
   ]
  },
  {
   "cell_type": "markdown",
   "metadata": {},
   "source": [
    "Aqui tem um ponto importnate: É possivel que o valor minimo seja sim 0 Dolares...porem acho que não seja verdade, por isso tomei a decisão de incrementar os valores 0 com a média.\n",
    "\n",
    "Caberia aqui uma analise mais profunda dos dados e até da região especifica de cada um desses valores zerados."
   ]
  },
  {
   "cell_type": "code",
   "execution_count": 44,
   "metadata": {},
   "outputs": [],
   "source": [
    "# Incrementa os valores 0 de priceRangeMin com a média\n",
    "pizzas['priceRangeMin'].replace(pizzas[pizzas['priceRangeMin'] == 0]['priceRangeMin'], round(pizzas['priceRangeMin'].mean(), 2), inplace=True)"
   ]
  },
  {
   "cell_type": "code",
   "execution_count": 45,
   "metadata": {},
   "outputs": [
    {
     "name": "stdout",
     "output_type": "stream",
     "text": [
      "Qtd zeros no 'priceRangeMin':  0\n"
     ]
    }
   ],
   "source": [
    "print(\"Qtd zeros no 'priceRangeMin': \", len(pizzas[pizzas['priceRangeMin'] == 0]['priceRangeMin']))"
   ]
  },
  {
   "cell_type": "code",
   "execution_count": 43,
   "metadata": {},
   "outputs": [
    {
     "data": {
      "image/png": "[encoded data removed]",
      "text/plain": [
       "<matplotlib.figure.Figure at 0xfaef785748>"
      ]
     },
     "metadata": {},
     "output_type": "display_data"
    }
   ],
   "source": [
    "# Provincia por Preço Minimo\n",
    "\n",
    "pizzas_provPrice = pizzas[pizzas['province'].str.len() == 2].groupby(['province'])['priceRangeMin'].mean()\n",
    "\n",
    "plt.figure(num=None, figsize=(8, 6), dpi=80, facecolor='w', edgecolor='k')\n",
    "ax = pizzas_provPrice[:10].plot.bar()\n",
    "ax.set_title(\"Preço Minimo nas pizzas por Estado\")\n",
    "ax.set_ylabel(\"Valor\")\n",
    "\n",
    "rects = ax.patches\n",
    "\n",
    "for rect in rects:\n",
    "    height = rect.get_height()\n",
    "    ax.text(rect.get_x() + rect.get_width()/2., 1.05*height,\n",
    "            #'%d' % int(height),\n",
    "            'R${:1.2f}'.format(height),\n",
    "            ha='center', va='bottom')\n",
    "\n",
    "plt.show();"
   ]
  },
  {
   "cell_type": "code",
   "execution_count": 46,
   "metadata": {},
   "outputs": [
    {
     "data": {
      "image/png": "[encoded data removed]",
      "text/plain": [
       "<matplotlib.figure.Figure at 0xfaef776a20>"
      ]
     },
     "metadata": {},
     "output_type": "display_data"
    }
   ],
   "source": [
    "# Provincia por Preço Maximo\n",
    "\n",
    "pizzas_provPrice = pizzas[pizzas['province'].str.len() == 2].groupby(['province'])['priceRangeMax'].mean()\n",
    "\n",
    "plt.figure(num=None, figsize=(8, 6), dpi=80, facecolor='w', edgecolor='k')\n",
    "ax = pizzas_provPrice[:10].plot.bar()\n",
    "ax.set_title(\"Preço Maximo nas pizzas por Estado\")\n",
    "ax.set_ylabel(\"Valor\")\n",
    "\n",
    "rects = ax.patches\n",
    "\n",
    "for rect in rects:\n",
    "    height = rect.get_height()\n",
    "    ax.text(rect.get_x() + rect.get_width()/2., 1.05*height,\n",
    "            #'%d' % int(height),\n",
    "            'R${:1.2f}'.format(height),\n",
    "            ha='center', va='bottom')\n",
    "\n",
    "plt.show();"
   ]
  },
  {
   "cell_type": "markdown",
   "metadata": {},
   "source": [
    "Vale lembrar aqui: Os dados talvez não sejam condicentes com as informações reais, por exemplo, AK (Alasca) possui o maior preço minimo e maximo de Pizza dos Estados Unidos, porem ele possui somente 1 unico registro em todo o dataset.\n",
    "\n",
    "Pode vir a ser um outlier, porem acredito que devido ao fato de não ter sido feita a alteração cidade-estado em todos os dados do dataset, muita informação referente a preço esta \"solta\".\n",
    "\n",
    "Sem contar que como o Alasca é um estado longe...o preço lá pode sim vir a ser mais alto que o normal."
   ]
  },
  {
   "cell_type": "markdown",
   "metadata": {},
   "source": [
    "# Fim"
   ]
  }
 ],
 "metadata": {
  "kernelspec": {
   "display_name": "Python [conda root]",
   "language": "python",
   "name": "conda-root-py"
  },
  "language_info": {
   "codemirror_mode": {
    "name": "ipython",
    "version": 3
   },
   "file_extension": ".py",
   "mimetype": "text/x-python",
   "name": "python",
   "nbconvert_exporter": "python",
   "pygments_lexer": "ipython3",
   "version": "3.5.3"
  },
  "widgets": {
   "application/vnd.jupyter.widget-state+json": {
    "state": {},
    "version_major": 1,
    "version_minor": 0
   }
  }
 },
 "nbformat": 4,
 "nbformat_minor": 2
}
